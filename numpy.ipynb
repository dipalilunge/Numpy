{
 "cells": [
  {
   "cell_type": "markdown",
   "id": "eeff145a",
   "metadata": {},
   "source": [
    "# Numpy\n",
    "N-dimensional array(nd arrray)-An ndarray is a (usually fixed-size) multidimensional container of items of the same type and size.\n",
    "contents of an ndarray can be accessed and modified by indexing or slicing the array (using, for example, N integers), and via the methods and attributes of the ndarray."
   ]
  },
  {
   "cell_type": "code",
   "execution_count": 5,
   "id": "a9e08ea8",
   "metadata": {},
   "outputs": [
    {
     "data": {
      "text/plain": [
       "array([[ 2,  5, 50],\n",
       "       [ 5,  6, 15]])"
      ]
     },
     "execution_count": 5,
     "metadata": {},
     "output_type": "execute_result"
    }
   ],
   "source": [
    "import numpy as np\n",
    "from numpy import*\n",
    "x=np.array([[2,5,50],[5,6,15]])\n",
    "x"
   ]
  },
  {
   "cell_type": "code",
   "execution_count": 6,
   "id": "0a181175",
   "metadata": {},
   "outputs": [
    {
     "data": {
      "text/plain": [
       "numpy.ndarray"
      ]
     },
     "execution_count": 6,
     "metadata": {},
     "output_type": "execute_result"
    }
   ],
   "source": [
    "type(x)"
   ]
  },
  {
   "cell_type": "code",
   "execution_count": 7,
   "id": "de56d60c",
   "metadata": {},
   "outputs": [
    {
     "data": {
      "text/plain": [
       "array([ 0,  1,  2,  3,  4,  5,  6,  7,  8,  9, 10, 11])"
      ]
     },
     "execution_count": 7,
     "metadata": {},
     "output_type": "execute_result"
    }
   ],
   "source": [
    "arange(12)\n",
    "#arange function arrange the elements in the given interval\n",
    "#arange(end)\n",
    "#arange(start,end)\n",
    "#arange(start,end,step)"
   ]
  },
  {
   "cell_type": "code",
   "execution_count": 8,
   "id": "55b866ba",
   "metadata": {},
   "outputs": [
    {
     "data": {
      "text/plain": [
       "array([ 2,  3,  4,  5,  6,  7,  8,  9, 10, 11])"
      ]
     },
     "execution_count": 8,
     "metadata": {},
     "output_type": "execute_result"
    }
   ],
   "source": [
    "arange(2,12)"
   ]
  },
  {
   "cell_type": "code",
   "execution_count": 9,
   "id": "815ae8c9",
   "metadata": {},
   "outputs": [
    {
     "data": {
      "text/plain": [
       "array([ 2,  4,  6,  8, 10])"
      ]
     },
     "execution_count": 9,
     "metadata": {},
     "output_type": "execute_result"
    }
   ],
   "source": [
    "arange(2,12,2)"
   ]
  },
  {
   "cell_type": "code",
   "execution_count": 10,
   "id": "4ba8978c",
   "metadata": {},
   "outputs": [],
   "source": [
    "h=arange(12)"
   ]
  },
  {
   "cell_type": "code",
   "execution_count": 11,
   "id": "4d747820",
   "metadata": {},
   "outputs": [],
   "source": [
    "import keyword"
   ]
  },
  {
   "cell_type": "code",
   "execution_count": 12,
   "id": "08b8d055",
   "metadata": {},
   "outputs": [
    {
     "name": "stdout",
     "output_type": "stream",
     "text": [
      "(0, 'False')\n",
      "(1, 'None')\n",
      "(2, 'True')\n",
      "(3, '__peg_parser__')\n",
      "(4, 'and')\n",
      "(5, 'as')\n",
      "(6, 'assert')\n",
      "(7, 'async')\n",
      "(8, 'await')\n",
      "(9, 'break')\n",
      "(10, 'class')\n",
      "(11, 'continue')\n",
      "(12, 'def')\n",
      "(13, 'del')\n",
      "(14, 'elif')\n",
      "(15, 'else')\n",
      "(16, 'except')\n",
      "(17, 'finally')\n",
      "(18, 'for')\n",
      "(19, 'from')\n",
      "(20, 'global')\n",
      "(21, 'if')\n",
      "(22, 'import')\n",
      "(23, 'in')\n",
      "(24, 'is')\n",
      "(25, 'lambda')\n",
      "(26, 'nonlocal')\n",
      "(27, 'not')\n",
      "(28, 'or')\n",
      "(29, 'pass')\n",
      "(30, 'raise')\n",
      "(31, 'return')\n",
      "(32, 'try')\n",
      "(33, 'while')\n",
      "(34, 'with')\n",
      "(35, 'yield')\n"
     ]
    }
   ],
   "source": [
    "for i in enumerate(keyword.kwlist):\n",
    "    print(i)"
   ]
  },
  {
   "cell_type": "code",
   "execution_count": 13,
   "id": "85b5819f",
   "metadata": {},
   "outputs": [],
   "source": [
    "a=a.reshape(4,3)"
   ]
  },
  {
   "cell_type": "code",
   "execution_count": 14,
   "id": "069905a2",
   "metadata": {},
   "outputs": [],
   "source": [
    "import numpy as np\n",
    "from numpy import *"
   ]
  },
  {
   "cell_type": "code",
   "execution_count": 15,
   "id": "c1df7767",
   "metadata": {},
   "outputs": [
    {
     "data": {
      "text/plain": [
       "array([ 0,  1,  2,  3,  4,  5,  6,  7,  8,  9, 10, 11])"
      ]
     },
     "execution_count": 15,
     "metadata": {},
     "output_type": "execute_result"
    }
   ],
   "source": [
    "a = arange(12)\n",
    "a"
   ]
  },
  {
   "cell_type": "markdown",
   "id": "71deaf6e",
   "metadata": {},
   "source": [
    "import * is use to import all the functions classes and variables from the module into the current namespace"
   ]
  },
  {
   "cell_type": "markdown",
   "id": "1101e27d",
   "metadata": {},
   "source": [
    "# arange()"
   ]
  },
  {
   "cell_type": "markdown",
   "id": "65a372b7",
   "metadata": {},
   "source": [
    "creation of array of evenly based value based on the given range and the condition"
   ]
  },
  {
   "cell_type": "markdown",
   "id": "14a4b92e",
   "metadata": {},
   "source": [
    "Syntax:\n",
    "numpy.arange ( [start,stop,step] ,dtype=None ) - numpy.ndarray"
   ]
  },
  {
   "cell_type": "code",
   "execution_count": 78,
   "id": "5b88b890",
   "metadata": {},
   "outputs": [
    {
     "data": {
      "text/plain": [
       "array([ 0,  1,  2,  3,  4,  5,  6,  7,  8,  9, 10, 11])"
      ]
     },
     "execution_count": 78,
     "metadata": {},
     "output_type": "execute_result"
    }
   ],
   "source": [
    "# arange()\n",
    "# Return evenly spaced values within a given interval.\n",
    "\n",
    "\n",
    "\n",
    "import numpy as np\n",
    "a=np.arange(12) #numpy.arange(start) \n",
    "a\n",
    "\n"
   ]
  },
  {
   "cell_type": "code",
   "execution_count": 79,
   "id": "cd8191c8",
   "metadata": {},
   "outputs": [
    {
     "data": {
      "text/plain": [
       "array([ 1,  2,  3,  4,  5,  6,  7,  8,  9, 10, 11])"
      ]
     },
     "execution_count": 79,
     "metadata": {},
     "output_type": "execute_result"
    }
   ],
   "source": [
    "np.arange(1,12)#numpy.arange(start,stop)\n",
    "\n"
   ]
  },
  {
   "cell_type": "code",
   "execution_count": 80,
   "id": "9a4eebb2",
   "metadata": {},
   "outputs": [
    {
     "data": {
      "text/plain": [
       "array([ 0,  3,  6,  9, 12])"
      ]
     },
     "execution_count": 80,
     "metadata": {},
     "output_type": "execute_result"
    }
   ],
   "source": [
    "np.arange(0,13,3) #numpy.arange(start,stop,step)"
   ]
  },
  {
   "cell_type": "markdown",
   "id": "de062156",
   "metadata": {},
   "source": [
    "# reshape()\n",
    "use to change the shape of the array which determines the number of elements in each dimension"
   ]
  },
  {
   "cell_type": "markdown",
   "id": "cc678d78",
   "metadata": {},
   "source": [
    "Syntax : numpy.reshape(array,[shape],order='c') "
   ]
  },
  {
   "cell_type": "code",
   "execution_count": 16,
   "id": "8f2c7a83",
   "metadata": {},
   "outputs": [
    {
     "data": {
      "text/plain": [
       "array([[[ 0,  1],\n",
       "        [ 2,  3]],\n",
       "\n",
       "       [[ 4,  5],\n",
       "        [ 6,  7]],\n",
       "\n",
       "       [[ 8,  9],\n",
       "        [10, 11]]])"
      ]
     },
     "execution_count": 16,
     "metadata": {},
     "output_type": "execute_result"
    }
   ],
   "source": [
    "a=a.reshape(3,2,2)\n",
    "a"
   ]
  },
  {
   "cell_type": "markdown",
   "id": "f409128b",
   "metadata": {},
   "source": [
    "Orders"
   ]
  },
  {
   "cell_type": "markdown",
   "id": "6bfec326",
   "metadata": {},
   "source": [
    " C-Contigeous - read/write element in c-like index order Last axis element changing fastest back to the first axis index changing slowest - row major order"
   ]
  },
  {
   "cell_type": "markdown",
   "id": "bf1c0947",
   "metadata": {},
   "source": [
    "F - Contigeous - read/write element in c-like index order first axis element changing fastest back to the last axis index changing slowest - column major order"
   ]
  },
  {
   "cell_type": "markdown",
   "id": "c1de17e9",
   "metadata": {},
   "source": [
    "A- returned array may be either C or F contigeous or even discontigeous"
   ]
  },
  {
   "cell_type": "markdown",
   "id": "0b282e22",
   "metadata": {},
   "source": [
    "np.reshape(array_name,[x,y,z])\n",
    "\n"
   ]
  },
  {
   "cell_type": "markdown",
   "id": "9d8cc628",
   "metadata": {},
   "source": [
    "x- number of 2D arrays"
   ]
  },
  {
   "cell_type": "markdown",
   "id": "3c37c899",
   "metadata": {},
   "source": [
    "y-number of rows in each array"
   ]
  },
  {
   "cell_type": "markdown",
   "id": "cb66e0bf",
   "metadata": {},
   "source": [
    "Z- number of columns in each 2D array"
   ]
  },
  {
   "cell_type": "code",
   "execution_count": 17,
   "id": "88093c70",
   "metadata": {},
   "outputs": [
    {
     "data": {
      "text/plain": [
       "array([[[ 0,  1],\n",
       "        [ 2,  3]],\n",
       "\n",
       "       [[ 4,  5],\n",
       "        [ 6,  7]],\n",
       "\n",
       "       [[ 8,  9],\n",
       "        [10, 11]]])"
      ]
     },
     "execution_count": 17,
     "metadata": {},
     "output_type": "execute_result"
    }
   ],
   "source": [
    "a"
   ]
  },
  {
   "cell_type": "code",
   "execution_count": 18,
   "id": "7b14bf3d",
   "metadata": {},
   "outputs": [
    {
     "data": {
      "text/plain": [
       "array([[ 0,  2],\n",
       "       [ 4,  6],\n",
       "       [ 8, 10]])"
      ]
     },
     "execution_count": 18,
     "metadata": {},
     "output_type": "execute_result"
    }
   ],
   "source": [
    "a[...,0]#elements at index zero"
   ]
  },
  {
   "cell_type": "code",
   "execution_count": 19,
   "id": "72ec17bb",
   "metadata": {},
   "outputs": [
    {
     "data": {
      "text/plain": [
       "array([[ 1,  3],\n",
       "       [ 5,  7],\n",
       "       [ 9, 11]])"
      ]
     },
     "execution_count": 19,
     "metadata": {},
     "output_type": "execute_result"
    }
   ],
   "source": [
    "a[...,1]"
   ]
  },
  {
   "cell_type": "code",
   "execution_count": 21,
   "id": "d3290562",
   "metadata": {},
   "outputs": [
    {
     "data": {
      "text/plain": [
       "array([[0, 1],\n",
       "       [2, 3]])"
      ]
     },
     "execution_count": 21,
     "metadata": {},
     "output_type": "execute_result"
    }
   ],
   "source": [
    "a[0,...]"
   ]
  },
  {
   "cell_type": "code",
   "execution_count": 22,
   "id": "9c33e6ad",
   "metadata": {},
   "outputs": [
    {
     "data": {
      "text/plain": [
       "array([[0, 1],\n",
       "       [2, 3]])"
      ]
     },
     "execution_count": 22,
     "metadata": {},
     "output_type": "execute_result"
    }
   ],
   "source": [
    "a[0]"
   ]
  },
  {
   "cell_type": "code",
   "execution_count": 23,
   "id": "40533100",
   "metadata": {},
   "outputs": [
    {
     "data": {
      "text/plain": [
       "array([[4, 5],\n",
       "       [6, 7]])"
      ]
     },
     "execution_count": 23,
     "metadata": {},
     "output_type": "execute_result"
    }
   ],
   "source": [
    "a[1,...]"
   ]
  },
  {
   "cell_type": "code",
   "execution_count": 24,
   "id": "4aa39f31",
   "metadata": {},
   "outputs": [
    {
     "data": {
      "text/plain": [
       "array([[ 8,  9],\n",
       "       [10, 11]])"
      ]
     },
     "execution_count": 24,
     "metadata": {},
     "output_type": "execute_result"
    }
   ],
   "source": [
    "a[2]"
   ]
  },
  {
   "cell_type": "code",
   "execution_count": 25,
   "id": "dfd6a098",
   "metadata": {},
   "outputs": [
    {
     "data": {
      "text/plain": [
       "array([[ 8,  9],\n",
       "       [10, 11]])"
      ]
     },
     "execution_count": 25,
     "metadata": {},
     "output_type": "execute_result"
    }
   ],
   "source": [
    "a[2,...]"
   ]
  },
  {
   "cell_type": "code",
   "execution_count": 26,
   "id": "9e1c233f",
   "metadata": {},
   "outputs": [
    {
     "data": {
      "text/plain": [
       "array([[ 0,  2],\n",
       "       [ 4,  6],\n",
       "       [ 8, 10]])"
      ]
     },
     "execution_count": 26,
     "metadata": {},
     "output_type": "execute_result"
    }
   ],
   "source": [
    "a[:,:,0]"
   ]
  },
  {
   "cell_type": "code",
   "execution_count": 27,
   "id": "53dc78b9",
   "metadata": {},
   "outputs": [
    {
     "data": {
      "text/plain": [
       "array([1, 2, 3, 4])"
      ]
     },
     "execution_count": 27,
     "metadata": {},
     "output_type": "execute_result"
    }
   ],
   "source": [
    "np.array([1,2,3,4])"
   ]
  },
  {
   "cell_type": "code",
   "execution_count": 28,
   "id": "2a49627b",
   "metadata": {},
   "outputs": [
    {
     "data": {
      "text/plain": [
       "array([[[ 0,  1],\n",
       "        [ 2,  3],\n",
       "        [ 4,  5]],\n",
       "\n",
       "       [[ 6,  7],\n",
       "        [ 8,  9],\n",
       "        [10, 11]]])"
      ]
     },
     "execution_count": 28,
     "metadata": {},
     "output_type": "execute_result"
    }
   ],
   "source": [
    "# the outermost dimension will have 2 arrays thet contains 3 arrays each with 2 elements\n",
    "a.reshape(2,3,2)"
   ]
  },
  {
   "cell_type": "code",
   "execution_count": 29,
   "id": "e244605b",
   "metadata": {},
   "outputs": [
    {
     "data": {
      "text/plain": [
       "array([[[ 4,  5],\n",
       "        [ 6,  7]],\n",
       "\n",
       "       [[ 8,  9],\n",
       "        [10, 11]]])"
      ]
     },
     "execution_count": 29,
     "metadata": {},
     "output_type": "execute_result"
    }
   ],
   "source": [
    "a[1:,...]"
   ]
  },
  {
   "cell_type": "code",
   "execution_count": 30,
   "id": "2bf4d9ba",
   "metadata": {},
   "outputs": [
    {
     "data": {
      "text/plain": [
       "array([[[ 4,  5],\n",
       "        [ 6,  7]],\n",
       "\n",
       "       [[ 8,  9],\n",
       "        [10, 11]]])"
      ]
     },
     "execution_count": 30,
     "metadata": {},
     "output_type": "execute_result"
    }
   ],
   "source": [
    "a[1:]"
   ]
  },
  {
   "cell_type": "code",
   "execution_count": 31,
   "id": "6f15bb89",
   "metadata": {},
   "outputs": [
    {
     "data": {
      "text/plain": [
       "array([[[ 4,  5],\n",
       "        [ 6,  7]],\n",
       "\n",
       "       [[ 8,  9],\n",
       "        [10, 11]]])"
      ]
     },
     "execution_count": 31,
     "metadata": {},
     "output_type": "execute_result"
    }
   ],
   "source": [
    "a[1:,:,:]"
   ]
  },
  {
   "cell_type": "code",
   "execution_count": 32,
   "id": "ef2c9631",
   "metadata": {},
   "outputs": [
    {
     "data": {
      "text/plain": [
       "array([[[0, 1],\n",
       "        [2, 3]],\n",
       "\n",
       "       [[4, 5],\n",
       "        [6, 7]]])"
      ]
     },
     "execution_count": 32,
     "metadata": {},
     "output_type": "execute_result"
    }
   ],
   "source": [
    "a[:2]"
   ]
  },
  {
   "cell_type": "code",
   "execution_count": 33,
   "id": "dc442088",
   "metadata": {},
   "outputs": [
    {
     "data": {
      "text/plain": [
       "array([ 0,  1,  2,  3,  4,  5,  6,  7,  8,  9, 10, 11, 12, 13, 14, 15, 16,\n",
       "       17, 18, 19, 20, 21, 22, 23, 24, 25, 26, 27, 28, 29, 30, 31, 32, 33,\n",
       "       34])"
      ]
     },
     "execution_count": 33,
     "metadata": {},
     "output_type": "execute_result"
    }
   ],
   "source": [
    "a=arange(35)\n",
    "a"
   ]
  },
  {
   "cell_type": "code",
   "execution_count": 34,
   "id": "bc3fe63d",
   "metadata": {},
   "outputs": [],
   "source": [
    "a=array([[0,1,2,3,4],[10,11,12,13,14],[20,21,22,23,24],[30,31,32,33,34]])"
   ]
  },
  {
   "cell_type": "code",
   "execution_count": 35,
   "id": "e094ca61",
   "metadata": {},
   "outputs": [
    {
     "data": {
      "text/plain": [
       "0"
      ]
     },
     "execution_count": 35,
     "metadata": {},
     "output_type": "execute_result"
    }
   ],
   "source": [
    "a[0,0]#indices starts from zero"
   ]
  },
  {
   "cell_type": "code",
   "execution_count": 36,
   "id": "8c2ae99f",
   "metadata": {},
   "outputs": [
    {
     "data": {
      "text/plain": [
       "array([30, 31, 32, 33, 34])"
      ]
     },
     "execution_count": 36,
     "metadata": {},
     "output_type": "execute_result"
    }
   ],
   "source": [
    "a[-1]#last row"
   ]
  },
  {
   "cell_type": "code",
   "execution_count": 37,
   "id": "0f16dd32",
   "metadata": {},
   "outputs": [
    {
     "data": {
      "text/plain": [
       "array([[11, 12, 13],\n",
       "       [21, 22, 23]])"
      ]
     },
     "execution_count": 37,
     "metadata": {},
     "output_type": "execute_result"
    }
   ],
   "source": [
    "a[1:3,1:4]#subarray"
   ]
  },
  {
   "cell_type": "code",
   "execution_count": 38,
   "id": "bf0c56cb",
   "metadata": {},
   "outputs": [],
   "source": [
    "i=array([0,1,2,1])#array of indices for the first axis \n",
    "j=array([1,2,3,4])#array of indices for the second axis "
   ]
  },
  {
   "cell_type": "code",
   "execution_count": 39,
   "id": "a93c826f",
   "metadata": {},
   "outputs": [
    {
     "data": {
      "text/plain": [
       "array([ 1, 12, 23, 14])"
      ]
     },
     "execution_count": 39,
     "metadata": {},
     "output_type": "execute_result"
    }
   ],
   "source": [
    "a[i,j]"
   ]
  },
  {
   "cell_type": "code",
   "execution_count": 40,
   "id": "eda0769f",
   "metadata": {},
   "outputs": [
    {
     "data": {
      "text/plain": [
       "array([ 0,  1,  2,  3,  4, 10, 11, 12])"
      ]
     },
     "execution_count": 40,
     "metadata": {},
     "output_type": "execute_result"
    }
   ],
   "source": [
    "a[a<13]# boolean indexing"
   ]
  },
  {
   "cell_type": "code",
   "execution_count": 41,
   "id": "2c274e56",
   "metadata": {},
   "outputs": [],
   "source": [
    "b1=array([True,False,True,False])\n",
    "#the row selector returns the true rows only"
   ]
  },
  {
   "cell_type": "code",
   "execution_count": 42,
   "id": "76ba577f",
   "metadata": {},
   "outputs": [
    {
     "data": {
      "text/plain": [
       "array([[ 0,  1,  2,  3,  4],\n",
       "       [20, 21, 22, 23, 24]])"
      ]
     },
     "execution_count": 42,
     "metadata": {},
     "output_type": "execute_result"
    }
   ],
   "source": [
    "a[b1,:]"
   ]
  },
  {
   "cell_type": "code",
   "execution_count": 43,
   "id": "b9e3f531",
   "metadata": {},
   "outputs": [
    {
     "data": {
      "text/plain": [
       "array([[ 1,  2,  4],\n",
       "       [11, 12, 14],\n",
       "       [21, 22, 24],\n",
       "       [31, 32, 34]])"
      ]
     },
     "execution_count": 43,
     "metadata": {},
     "output_type": "execute_result"
    }
   ],
   "source": [
    "b2=array([False,True,True, False,True]) #boolean column selector\n",
    "a[:,b2]"
   ]
  },
  {
   "cell_type": "markdown",
   "id": "325b8f7c",
   "metadata": {},
   "source": [
    "# abs()\n",
    "returns element wise absolute value of each element input array"
   ]
  },
  {
   "cell_type": "code",
   "execution_count": 44,
   "id": "353066dd",
   "metadata": {},
   "outputs": [
    {
     "data": {
      "text/plain": [
       "1"
      ]
     },
     "execution_count": 44,
     "metadata": {},
     "output_type": "execute_result"
    }
   ],
   "source": [
    "abs(-1)"
   ]
  },
  {
   "cell_type": "code",
   "execution_count": 45,
   "id": "60c93fba",
   "metadata": {},
   "outputs": [
    {
     "data": {
      "text/plain": [
       "array([1.2, 1.2])"
      ]
     },
     "execution_count": 45,
     "metadata": {},
     "output_type": "execute_result"
    }
   ],
   "source": [
    "abs(array([-1.2,1.2]))"
   ]
  },
  {
   "cell_type": "code",
   "execution_count": 46,
   "id": "5aa5df5d",
   "metadata": {},
   "outputs": [
    {
     "data": {
      "text/plain": [
       "1.5620499351813308"
      ]
     },
     "execution_count": 46,
     "metadata": {},
     "output_type": "execute_result"
    }
   ],
   "source": [
    "abs(1.2-1j)"
   ]
  },
  {
   "cell_type": "markdown",
   "id": "dc04d23a",
   "metadata": {},
   "source": [
    "# accumulate()\n",
    " It returns an array of the same size as the input array where each element is the accumulated sum of elements up to its index.\n"
   ]
  },
  {
   "cell_type": "code",
   "execution_count": 47,
   "id": "9b30694d",
   "metadata": {},
   "outputs": [
    {
     "data": {
      "text/plain": [
       "array([1., 3., 6.])"
      ]
     },
     "execution_count": 47,
     "metadata": {},
     "output_type": "execute_result"
    }
   ],
   "source": [
    "add.accumulate(array([1.,2.,3.]))#like reduce() but also gives intermediate results"
   ]
  },
  {
   "cell_type": "code",
   "execution_count": 48,
   "id": "9304984f",
   "metadata": {},
   "outputs": [
    {
     "data": {
      "text/plain": [
       "array([ 1.,  3.,  6., 10.])"
      ]
     },
     "execution_count": 48,
     "metadata": {},
     "output_type": "execute_result"
    }
   ],
   "source": [
    "array([1.,1.+2.,(1.+2.)+3.,((1.+2.)+3.)+4.]) #this is what it computed"
   ]
  },
  {
   "cell_type": "code",
   "execution_count": 49,
   "id": "1b4e9327",
   "metadata": {},
   "outputs": [
    {
     "data": {
      "text/plain": [
       "array([ 1.,  2.,  6., 24.])"
      ]
     },
     "execution_count": 49,
     "metadata": {},
     "output_type": "execute_result"
    }
   ],
   "source": [
    "multiply.accumulate(array([1.,2.,3.,4.])) #works also whith other operand"
   ]
  },
  {
   "cell_type": "code",
   "execution_count": 50,
   "id": "ff74f469",
   "metadata": {},
   "outputs": [
    {
     "data": {
      "text/plain": [
       "array([[1, 2, 3],\n",
       "       [5, 7, 9]])"
      ]
     },
     "execution_count": 50,
     "metadata": {},
     "output_type": "execute_result"
    }
   ],
   "source": [
    "add.accumulate(array([[1,2,3],[4,5,6]]))#accumulate every column seperately\n",
    "\n"
   ]
  },
  {
   "cell_type": "code",
   "execution_count": 51,
   "id": "38ea2c12",
   "metadata": {},
   "outputs": [
    {
     "data": {
      "text/plain": [
       "array([[ 1,  3,  6],\n",
       "       [ 4,  9, 15]])"
      ]
     },
     "execution_count": 51,
     "metadata": {},
     "output_type": "execute_result"
    }
   ],
   "source": [
    "add.accumulate(array([[1,2,3],[4,5,6]]), axis = 1)"
   ]
  },
  {
   "cell_type": "code",
   "execution_count": 52,
   "id": "cb6bc905",
   "metadata": {},
   "outputs": [
    {
     "data": {
      "text/plain": [
       "array([[1, 2, 3],\n",
       "       [5, 7, 9]])"
      ]
     },
     "execution_count": 52,
     "metadata": {},
     "output_type": "execute_result"
    }
   ],
   "source": [
    "add.accumulate(array([[1,2,3],[4,5,6]]), axis = 0)#accumulate every row seperately"
   ]
  },
  {
   "cell_type": "markdown",
   "id": "fb23bb9d",
   "metadata": {},
   "source": [
    "#  add()\n",
    "The numpy.add() function is used to perform element-wise addition between two arrays or between an array and a scalar value. It returns a new array containing the sum of corresponding elements of the input arrays."
   ]
  },
  {
   "cell_type": "code",
   "execution_count": 53,
   "id": "09106483",
   "metadata": {},
   "outputs": [
    {
     "data": {
      "text/plain": [
       "array([-0.2,  4.2])"
      ]
     },
     "execution_count": 53,
     "metadata": {},
     "output_type": "execute_result"
    }
   ],
   "source": [
    "add(array([-1.2,1.2]), array([1,3]))"
   ]
  },
  {
   "cell_type": "code",
   "execution_count": 54,
   "id": "9e1d77c2",
   "metadata": {},
   "outputs": [
    {
     "data": {
      "text/plain": [
       "array([-0.2,  4.2])"
      ]
     },
     "execution_count": 54,
     "metadata": {},
     "output_type": "execute_result"
    }
   ],
   "source": [
    "array([-1.2,1.2])+ array([1,3])"
   ]
  },
  {
   "cell_type": "markdown",
   "id": "1b236b92",
   "metadata": {},
   "source": [
    "# all()\n",
    "numpy.all() function is used to test whether all elements along a given axis evaluate to True. If any element evaluates to False, the function returns False; otherwise, it returns True. This function is particularly useful for checking conditions across arrays.\n",
    "\n"
   ]
  },
  {
   "cell_type": "code",
   "execution_count": 55,
   "id": "4cbd3424",
   "metadata": {},
   "outputs": [
    {
     "data": {
      "text/plain": [
       "False"
      ]
     },
     "execution_count": 55,
     "metadata": {},
     "output_type": "execute_result"
    }
   ],
   "source": [
    "a=array([True,False,True])\n",
    "a.all()#if all elements of a are True: return True; otherwisse False"
   ]
  },
  {
   "cell_type": "code",
   "execution_count": 56,
   "id": "8859487e",
   "metadata": {},
   "outputs": [
    {
     "data": {
      "text/plain": [
       "False"
      ]
     },
     "execution_count": 56,
     "metadata": {},
     "output_type": "execute_result"
    }
   ],
   "source": [
    "all(a)#this form also exists"
   ]
  },
  {
   "cell_type": "code",
   "execution_count": 57,
   "id": "10b07568",
   "metadata": {},
   "outputs": [
    {
     "data": {
      "text/plain": [
       "True"
      ]
     },
     "execution_count": 57,
     "metadata": {},
     "output_type": "execute_result"
    }
   ],
   "source": [
    "a=array([1,2,3])\n",
    "all(a>0) #equivalant to (a>0).all()"
   ]
  },
  {
   "cell_type": "markdown",
   "id": "b5ddfa24",
   "metadata": {},
   "source": [
    "# allclose()\n",
    "The numpy.allclose() function is used to check if all elements of two arrays are almost equal within a tolerance. This is particularly useful when dealing with floating-point numbers, where exact equality may not be meaningful due to floating-point representation issues."
   ]
  },
  {
   "cell_type": "code",
   "execution_count": 56,
   "id": "c5ddec2c",
   "metadata": {},
   "outputs": [
    {
     "data": {
      "text/plain": [
       "False"
      ]
     },
     "execution_count": 56,
     "metadata": {},
     "output_type": "execute_result"
    }
   ],
   "source": [
    "allclose(array([1e10,1e-7]), array([1.00001e10, 1e-8]))"
   ]
  },
  {
   "cell_type": "code",
   "execution_count": 57,
   "id": "762b577c",
   "metadata": {},
   "outputs": [
    {
     "data": {
      "text/plain": [
       "True"
      ]
     },
     "execution_count": 57,
     "metadata": {},
     "output_type": "execute_result"
    }
   ],
   "source": [
    "allclose(array([1e10,1e-8]), array([1.00001e10, 1e-9]))"
   ]
  },
  {
   "cell_type": "markdown",
   "id": "dad849a7",
   "metadata": {},
   "source": [
    "#  alltrue()\n",
    "same as numpy.all()"
   ]
  },
  {
   "cell_type": "code",
   "execution_count": 58,
   "id": "141f550b",
   "metadata": {},
   "outputs": [
    {
     "data": {
      "text/plain": [
       "False"
      ]
     },
     "execution_count": 58,
     "metadata": {},
     "output_type": "execute_result"
    }
   ],
   "source": [
    "b=array([True,False,True,False])\n",
    "alltrue(b)"
   ]
  },
  {
   "cell_type": "code",
   "execution_count": 59,
   "id": "625b3e4f",
   "metadata": {},
   "outputs": [
    {
     "data": {
      "text/plain": [
       "False"
      ]
     },
     "execution_count": 59,
     "metadata": {},
     "output_type": "execute_result"
    }
   ],
   "source": [
    "a=array([1,5,2,7])\n",
    "alltrue(a>=5)"
   ]
  },
  {
   "cell_type": "markdown",
   "id": "80705c64",
   "metadata": {},
   "source": [
    "# angle()\n",
    "\n",
    " This function is used to compute the angle of the complex argument. It returns the angle of the complex argument, in radians, where the angle is measured from the positive real axis to the point representing the complex number in the complex plane.\n"
   ]
  },
  {
   "cell_type": "code",
   "execution_count": 60,
   "id": "bbd55373",
   "metadata": {},
   "outputs": [
    {
     "data": {
      "text/plain": [
       "0.7853981633974483"
      ]
     },
     "execution_count": 60,
     "metadata": {},
     "output_type": "execute_result"
    }
   ],
   "source": [
    "angle(1+1j) #in radians"
   ]
  },
  {
   "cell_type": "code",
   "execution_count": 61,
   "id": "f893f8a4",
   "metadata": {},
   "outputs": [
    {
     "data": {
      "text/plain": [
       "45.0"
      ]
     },
     "execution_count": 61,
     "metadata": {},
     "output_type": "execute_result"
    }
   ],
   "source": [
    "angle(1+1j,deg=True)#in degrees"
   ]
  },
  {
   "cell_type": "markdown",
   "id": "b576cc1e",
   "metadata": {},
   "source": [
    "# any()\n",
    "The numpy.any() function is used to test whether any element along a given axis evaluates to True. If at least one element evaluates to True, the function returns True; otherwise, it returns False. This function is particularly useful for checking conditions across arrays."
   ]
  },
  {
   "cell_type": "code",
   "execution_count": 62,
   "id": "e8f94d45",
   "metadata": {},
   "outputs": [
    {
     "data": {
      "text/plain": [
       "True"
      ]
     },
     "execution_count": 62,
     "metadata": {},
     "output_type": "execute_result"
    }
   ],
   "source": [
    "a=array([True,False,True])\n",
    "a.any()#gives true if atleast one of the element is true else false"
   ]
  },
  {
   "cell_type": "code",
   "execution_count": 63,
   "id": "f8d41937",
   "metadata": {},
   "outputs": [
    {
     "data": {
      "text/plain": [
       "True"
      ]
     },
     "execution_count": 63,
     "metadata": {},
     "output_type": "execute_result"
    }
   ],
   "source": [
    "any(a)"
   ]
  },
  {
   "cell_type": "code",
   "execution_count": 64,
   "id": "86d22d41",
   "metadata": {},
   "outputs": [],
   "source": [
    "a=array([1,2,3])"
   ]
  },
  {
   "cell_type": "code",
   "execution_count": 65,
   "id": "b5245d5f",
   "metadata": {},
   "outputs": [
    {
     "data": {
      "text/plain": [
       "True"
      ]
     },
     "execution_count": 65,
     "metadata": {},
     "output_type": "execute_result"
    }
   ],
   "source": [
    "(a>=1).any()"
   ]
  },
  {
   "cell_type": "markdown",
   "id": "4fef03da",
   "metadata": {},
   "source": [
    "# append()\n",
    "use to append the element or array"
   ]
  },
  {
   "cell_type": "code",
   "execution_count": 66,
   "id": "42399a29",
   "metadata": {},
   "outputs": [
    {
     "data": {
      "text/plain": [
       "array([10, 20, 30, 40, 50])"
      ]
     },
     "execution_count": 66,
     "metadata": {},
     "output_type": "execute_result"
    }
   ],
   "source": [
    "a=array([10,20,30,40])\n",
    "append(a,50)"
   ]
  },
  {
   "cell_type": "code",
   "execution_count": 67,
   "id": "0089d15f",
   "metadata": {},
   "outputs": [
    {
     "data": {
      "text/plain": [
       "array([10, 20, 30, 40, 50, 60])"
      ]
     },
     "execution_count": 67,
     "metadata": {},
     "output_type": "execute_result"
    }
   ],
   "source": [
    "append(a,[50,60])"
   ]
  },
  {
   "cell_type": "code",
   "execution_count": 68,
   "id": "a90d054a",
   "metadata": {},
   "outputs": [
    {
     "data": {
      "text/plain": [
       "array([[10, 20, 30],\n",
       "       [40, 50, 60],\n",
       "       [70, 80, 90],\n",
       "       [15, 15, 15]])"
      ]
     },
     "execution_count": 68,
     "metadata": {},
     "output_type": "execute_result"
    }
   ],
   "source": [
    "a=array([[10,20,30],[40,50,60],[70,80,90]])\n",
    "append(a,[[15,15,15]],axis=0)"
   ]
  },
  {
   "cell_type": "code",
   "execution_count": 69,
   "id": "274009f2",
   "metadata": {},
   "outputs": [
    {
     "data": {
      "text/plain": [
       "array([[10, 20, 30],\n",
       "       [40, 50, 60],\n",
       "       [70, 80, 90],\n",
       "       [50, 50, 50]])"
      ]
     },
     "execution_count": 69,
     "metadata": {},
     "output_type": "execute_result"
    }
   ],
   "source": [
    "append(a,[[50,50,50]],axis=0)#adding row or array"
   ]
  },
  {
   "cell_type": "code",
   "execution_count": 70,
   "id": "31997585",
   "metadata": {},
   "outputs": [
    {
     "data": {
      "text/plain": [
       "array([[10, 20, 30, 50],\n",
       "       [40, 50, 60, 50],\n",
       "       [70, 80, 90, 50]])"
      ]
     },
     "execution_count": 70,
     "metadata": {},
     "output_type": "execute_result"
    }
   ],
   "source": [
    "append(a,[[50],[50],[50]],axis=1)#adding element in end of each subarray"
   ]
  },
  {
   "cell_type": "markdown",
   "id": "99fa03ae",
   "metadata": {},
   "source": [
    "# apply_over_axes()\n",
    "syntax - numpy.apply_over_axes(func,array,axes)"
   ]
  },
  {
   "cell_type": "markdown",
   "id": "f5fc0b97",
   "metadata": {},
   "source": [
    "applies a function repeatedly over multiple axes in an array."
   ]
  },
  {
   "cell_type": "code",
   "execution_count": 71,
   "id": "4edee4a1",
   "metadata": {},
   "outputs": [],
   "source": [
    "from numpy import*"
   ]
  },
  {
   "cell_type": "code",
   "execution_count": 72,
   "id": "9a1cd576",
   "metadata": {},
   "outputs": [
    {
     "data": {
      "text/plain": [
       "array([[[ 0,  1,  2,  3],\n",
       "        [ 4,  5,  6,  7],\n",
       "        [ 8,  9, 10, 11]],\n",
       "\n",
       "       [[12, 13, 14, 15],\n",
       "        [16, 17, 18, 19],\n",
       "        [20, 21, 22, 23]]])"
      ]
     },
     "execution_count": 72,
     "metadata": {},
     "output_type": "execute_result"
    }
   ],
   "source": [
    "a=arange(24).reshape(2,3,4)\n",
    "a"
   ]
  },
  {
   "cell_type": "code",
   "execution_count": 349,
   "id": "c907ca21",
   "metadata": {},
   "outputs": [
    {
     "data": {
      "text/plain": [
       "array([[[ 60],\n",
       "        [ 92],\n",
       "        [124]]])"
      ]
     },
     "execution_count": 349,
     "metadata": {},
     "output_type": "execute_result"
    }
   ],
   "source": [
    "apply_over_axes(sum,a,[0,2])#sum over all axes except axis=1,result has same shape as original"
   ]
  },
  {
   "cell_type": "markdown",
   "id": "e24ee1bb",
   "metadata": {},
   "source": [
    "#  apply_along_axis()"
   ]
  },
  {
   "cell_type": "markdown",
   "id": "c4b9591d",
   "metadata": {},
   "source": [
    "The apply_along_axis() method allows you to apply a function to each row or column of a multidimensional array, without using explicit loops."
   ]
  },
  {
   "cell_type": "code",
   "execution_count": 83,
   "id": "a7259c55",
   "metadata": {},
   "outputs": [],
   "source": [
    "def myfunc(a) : #The apply_along_axis() method allows you to apply a function to each row or column of a multidimensional array, without using explicit loops\n",
    "  return(a[0]+a[-1])/2"
   ]
  },
  {
   "cell_type": "code",
   "execution_count": 84,
   "id": "2979ec95",
   "metadata": {},
   "outputs": [],
   "source": [
    "b=array([[1,2,3],[4,5,6],[7,8,9]])"
   ]
  },
  {
   "cell_type": "code",
   "execution_count": 85,
   "id": "ad599672",
   "metadata": {},
   "outputs": [
    {
     "data": {
      "text/plain": [
       "array([4., 5., 6.])"
      ]
     },
     "execution_count": 85,
     "metadata": {},
     "output_type": "execute_result"
    }
   ],
   "source": [
    "apply_along_axis(myfunc,0,b) #apply myfunc to each column (axis=0) of b"
   ]
  },
  {
   "cell_type": "code",
   "execution_count": 86,
   "id": "5200cc6f",
   "metadata": {},
   "outputs": [
    {
     "data": {
      "text/plain": [
       "array([2., 5., 8.])"
      ]
     },
     "execution_count": 86,
     "metadata": {},
     "output_type": "execute_result"
    }
   ],
   "source": [
    "apply_along_axis(myfunc,1,b) #apply myfunct to each row (axis=1) of b"
   ]
  },
  {
   "cell_type": "markdown",
   "id": "8fe9d218",
   "metadata": {},
   "source": [
    "#  arange()"
   ]
  },
  {
   "cell_type": "code",
   "execution_count": 87,
   "id": "2a6b6067",
   "metadata": {},
   "outputs": [
    {
     "data": {
      "text/plain": [
       "array([0, 1, 2])"
      ]
     },
     "execution_count": 87,
     "metadata": {},
     "output_type": "execute_result"
    }
   ],
   "source": [
    "arange(3)"
   ]
  },
  {
   "cell_type": "code",
   "execution_count": 88,
   "id": "9b5dbe6f",
   "metadata": {},
   "outputs": [
    {
     "data": {
      "text/plain": [
       "array([0., 1., 2.])"
      ]
     },
     "execution_count": 88,
     "metadata": {},
     "output_type": "execute_result"
    }
   ],
   "source": [
    "arange(3.0)"
   ]
  },
  {
   "cell_type": "code",
   "execution_count": 89,
   "id": "5fb79468",
   "metadata": {},
   "outputs": [
    {
     "data": {
      "text/plain": [
       "array([0., 1., 2.])"
      ]
     },
     "execution_count": 89,
     "metadata": {},
     "output_type": "execute_result"
    }
   ],
   "source": [
    "arange(3, dtype=float)"
   ]
  },
  {
   "cell_type": "code",
   "execution_count": 90,
   "id": "d57ace31",
   "metadata": {},
   "outputs": [
    {
     "data": {
      "text/plain": [
       "array([3, 4, 5, 6, 7, 8, 9])"
      ]
     },
     "execution_count": 90,
     "metadata": {},
     "output_type": "execute_result"
    }
   ],
   "source": [
    "arange(3,10) #start,stop"
   ]
  },
  {
   "cell_type": "code",
   "execution_count": 91,
   "id": "444c7c81",
   "metadata": {},
   "outputs": [
    {
     "data": {
      "text/plain": [
       "array([3, 5, 7, 9])"
      ]
     },
     "execution_count": 91,
     "metadata": {},
     "output_type": "execute_result"
    }
   ],
   "source": [
    "arange(3,10,2) #start,stop.step"
   ]
  },
  {
   "cell_type": "markdown",
   "id": "eae6b322",
   "metadata": {},
   "source": [
    "# arccos()\n",
    "Compute the inverse cosine of x.\n",
    "\n"
   ]
  },
  {
   "cell_type": "code",
   "execution_count": 92,
   "id": "bf72e60a",
   "metadata": {},
   "outputs": [
    {
     "data": {
      "text/plain": [
       "array([1.57079633, 0.        ])"
      ]
     },
     "execution_count": 92,
     "metadata": {},
     "output_type": "execute_result"
    }
   ],
   "source": [
    "arccos(array([0,1]))"
   ]
  },
  {
   "cell_type": "markdown",
   "id": "402cac2d",
   "metadata": {},
   "source": [
    "#  arccosh()\n",
    "helps user to calculate inverse hyperbolic cosine, element-wise for all arr."
   ]
  },
  {
   "cell_type": "code",
   "execution_count": 93,
   "id": "9fc0e924",
   "metadata": {},
   "outputs": [
    {
     "data": {
      "text/plain": [
       "array([1.65745445, 2.99322285])"
      ]
     },
     "execution_count": 93,
     "metadata": {},
     "output_type": "execute_result"
    }
   ],
   "source": [
    "arccosh(array([e,10.0]))"
   ]
  },
  {
   "cell_type": "markdown",
   "id": "8f01aa8c",
   "metadata": {},
   "source": [
    "#  arcsin()\n",
    "This mathematical function helps user to calculate inverse sine for all x(being the array elements)."
   ]
  },
  {
   "cell_type": "code",
   "execution_count": 94,
   "id": "86efb1a6",
   "metadata": {},
   "outputs": [
    {
     "data": {
      "text/plain": [
       "array([0.        , 1.57079633])"
      ]
     },
     "execution_count": 94,
     "metadata": {},
     "output_type": "execute_result"
    }
   ],
   "source": [
    "arcsin(array([0,1]))"
   ]
  },
  {
   "cell_type": "markdown",
   "id": "9ac8c802",
   "metadata": {},
   "source": [
    "#  arcsinh()\n",
    "This function is used to calculate the hyperbolic inverse sine of the array elements"
   ]
  },
  {
   "cell_type": "code",
   "execution_count": 96,
   "id": "0067e07a",
   "metadata": {},
   "outputs": [
    {
     "data": {
      "text/plain": [
       "array([1.72538256, 2.99822295])"
      ]
     },
     "execution_count": 96,
     "metadata": {},
     "output_type": "execute_result"
    }
   ],
   "source": [
    "arcsinh(array([e,10.0]))"
   ]
  },
  {
   "cell_type": "markdown",
   "id": "cf02cfbf",
   "metadata": {},
   "source": [
    "#  arctan()\n",
    "This function is used to calculate the inverse tangent of the array elements."
   ]
  },
  {
   "cell_type": "code",
   "execution_count": 97,
   "id": "625ca21e",
   "metadata": {},
   "outputs": [
    {
     "data": {
      "text/plain": [
       "array([0.        , 0.78539816])"
      ]
     },
     "execution_count": 97,
     "metadata": {},
     "output_type": "execute_result"
    }
   ],
   "source": [
    "arctan(array([0,1]))"
   ]
  },
  {
   "cell_type": "markdown",
   "id": "c610342c",
   "metadata": {},
   "source": [
    "#  arctan2()\n",
    "The numpy.arctan2() method computes element-wise arc tangent of arr1/arr2 choosing the quadrant correctly"
   ]
  },
  {
   "cell_type": "code",
   "execution_count": 98,
   "id": "6ab5d4ae",
   "metadata": {},
   "outputs": [
    {
     "data": {
      "text/plain": [
       "array([0.        , 1.57079633])"
      ]
     },
     "execution_count": 98,
     "metadata": {},
     "output_type": "execute_result"
    }
   ],
   "source": [
    "arctan2(array([0,1]), array([1,0]))"
   ]
  },
  {
   "cell_type": "markdown",
   "id": "fd7c1edd",
   "metadata": {},
   "source": [
    "#  arctanh()\n",
    "Compute the inverse hyperbolic tangent of x."
   ]
  },
  {
   "cell_type": "code",
   "execution_count": 99,
   "id": "6dd4917c",
   "metadata": {},
   "outputs": [
    {
     "data": {
      "text/plain": [
       "array([ 0.        , -0.54930614])"
      ]
     },
     "execution_count": 99,
     "metadata": {},
     "output_type": "execute_result"
    }
   ],
   "source": [
    "arctanh(array([0,-0.5]))"
   ]
  },
  {
   "cell_type": "markdown",
   "id": "144ef556",
   "metadata": {},
   "source": [
    "# argmax()\n",
    "Returns the indices of the maximum values along an axis"
   ]
  },
  {
   "cell_type": "code",
   "execution_count": 100,
   "id": "e3b75925",
   "metadata": {},
   "outputs": [],
   "source": [
    "a=array([10,20,30])"
   ]
  },
  {
   "cell_type": "code",
   "execution_count": 102,
   "id": "72ce8004",
   "metadata": {},
   "outputs": [
    {
     "data": {
      "text/plain": [
       "2"
      ]
     },
     "execution_count": 102,
     "metadata": {},
     "output_type": "execute_result"
    }
   ],
   "source": [
    "maxindex=a.argmax()\n",
    "maxindex"
   ]
  },
  {
   "cell_type": "code",
   "execution_count": 103,
   "id": "c043343e",
   "metadata": {},
   "outputs": [
    {
     "data": {
      "text/plain": [
       "30"
      ]
     },
     "execution_count": 103,
     "metadata": {},
     "output_type": "execute_result"
    }
   ],
   "source": [
    "a[maxindex]"
   ]
  },
  {
   "cell_type": "code",
   "execution_count": 108,
   "id": "70869e15",
   "metadata": {},
   "outputs": [
    {
     "data": {
      "text/plain": [
       "3"
      ]
     },
     "execution_count": 108,
     "metadata": {},
     "output_type": "execute_result"
    }
   ],
   "source": [
    "a=array([[10,50,30],[60,20,40]])\n",
    "maxindex=a.argmax()\n",
    "maxindex"
   ]
  },
  {
   "cell_type": "code",
   "execution_count": 109,
   "id": "c163a8ae",
   "metadata": {},
   "outputs": [
    {
     "data": {
      "text/plain": [
       "60"
      ]
     },
     "execution_count": 109,
     "metadata": {},
     "output_type": "execute_result"
    }
   ],
   "source": [
    "a.ravel()[maxindex]#ravel, which is used to change a 2-dimensional array or a multi-dimensional array into a contiguous flattened array. The returned array has the same data type \n",
    "#as the source array or input array. "
   ]
  },
  {
   "cell_type": "code",
   "execution_count": 110,
   "id": "5f185d41",
   "metadata": {},
   "outputs": [
    {
     "data": {
      "text/plain": [
       "array([1, 0, 1], dtype=int64)"
      ]
     },
     "execution_count": 110,
     "metadata": {},
     "output_type": "execute_result"
    }
   ],
   "source": [
    "a.argmax(axis=0)#for each column: max value row index"
   ]
  },
  {
   "cell_type": "code",
   "execution_count": 112,
   "id": "f2864b95",
   "metadata": {},
   "outputs": [
    {
     "data": {
      "text/plain": [
       "array([1, 0], dtype=int64)"
      ]
     },
     "execution_count": 112,
     "metadata": {},
     "output_type": "execute_result"
    }
   ],
   "source": [
    "a.argmax(axis=1) #for each row : the column index of maximum value\n"
   ]
  },
  {
   "cell_type": "code",
   "execution_count": 113,
   "id": "82340a24",
   "metadata": {},
   "outputs": [
    {
     "data": {
      "text/plain": [
       "0"
      ]
     },
     "execution_count": 113,
     "metadata": {},
     "output_type": "execute_result"
    }
   ],
   "source": [
    "argmin(a)"
   ]
  },
  {
   "cell_type": "markdown",
   "id": "f9cf7c51",
   "metadata": {},
   "source": [
    "#  argsort()\n",
    "The NumPy module provides a function for performing an indirect sort along with the given axis with the help of the algorithm specified by the keyword. This function returns an array of indices of the same shape as 'a', which would sort the array.\n"
   ]
  },
  {
   "cell_type": "markdown",
   "id": "a744aca2",
   "metadata": {},
   "source": [
    "Syntax = numpy.argsort(a, axis=-1, kind=quicksort, order=None)  \n"
   ]
  },
  {
   "cell_type": "code",
   "execution_count": 115,
   "id": "c6a0b5e2",
   "metadata": {},
   "outputs": [
    {
     "data": {
      "text/plain": [
       "array([1, 5, 0, 3, 4, 2], dtype=int64)"
      ]
     },
     "execution_count": 115,
     "metadata": {},
     "output_type": "execute_result"
    }
   ],
   "source": [
    "a=array([2,0,8,4,4,1])\n",
    "ind= a.argsort() #indices of sorted array using quicksort (default)\n",
    "ind"
   ]
  },
  {
   "cell_type": "code",
   "execution_count": 116,
   "id": "2727602d",
   "metadata": {},
   "outputs": [
    {
     "data": {
      "text/plain": [
       "array([0, 1, 2, 4, 4, 8])"
      ]
     },
     "execution_count": 116,
     "metadata": {},
     "output_type": "execute_result"
    }
   ],
   "source": [
    "a[ind] #same as a.sort()"
   ]
  },
  {
   "cell_type": "code",
   "execution_count": 122,
   "id": "a034cd97",
   "metadata": {},
   "outputs": [
    {
     "data": {
      "text/plain": [
       "array([[1, 1, 0],\n",
       "       [0, 0, 1]], dtype=int64)"
      ]
     },
     "execution_count": 122,
     "metadata": {},
     "output_type": "execute_result"
    }
   ],
   "source": [
    "indices=a.argsort(kind='merge') #algorithms are 'quicksort','mergesort','heapsort'\n",
    "a=array([[8,4,1],[2,0,9]])\n",
    "indices = a.argsort(axis=0)#sorts on columns. Not the same as a.sort(axis=1)\n",
    "indices"
   ]
  },
  {
   "cell_type": "code",
   "execution_count": 123,
   "id": "35d79d38",
   "metadata": {},
   "outputs": [
    {
     "data": {
      "text/plain": [
       "array([[2, 0, 1],\n",
       "       [8, 4, 9]])"
      ]
     },
     "execution_count": 123,
     "metadata": {},
     "output_type": "execute_result"
    }
   ],
   "source": [
    "a[indices,[[0,1,2],[0,1,2]]] #2-D arrays need fancy indexing if you want to sort them"
   ]
  },
  {
   "cell_type": "code",
   "execution_count": 124,
   "id": "97158d63",
   "metadata": {},
   "outputs": [
    {
     "data": {
      "text/plain": [
       "array([[2, 1, 0],\n",
       "       [1, 0, 2]], dtype=int64)"
      ]
     },
     "execution_count": 124,
     "metadata": {},
     "output_type": "execute_result"
    }
   ],
   "source": [
    "ind=a.argsort(axis=1) #sort along rows . can use a.argsort (axis=-1) for last axis\n",
    "ind"
   ]
  },
  {
   "cell_type": "code",
   "execution_count": 126,
   "id": "b4fb75ff",
   "metadata": {},
   "outputs": [
    {
     "data": {
      "text/plain": [
       "array([ 0, 14, 13, 12, 11, 10,  9, 15,  8,  6,  5,  4,  3,  2,  1,  7, 16],\n",
       "      dtype=int64)"
      ]
     },
     "execution_count": 126,
     "metadata": {},
     "output_type": "execute_result"
    }
   ],
   "source": [
    "a=ones(17)\n",
    "a.argsort()#quicksort doesnt preserve original order"
   ]
  },
  {
   "cell_type": "code",
   "execution_count": 127,
   "id": "6c856557",
   "metadata": {},
   "outputs": [
    {
     "data": {
      "text/plain": [
       "array([ 0,  1,  2,  3,  4,  5,  6,  7,  8,  9, 10, 11, 12, 13, 14, 15, 16],\n",
       "      dtype=int64)"
      ]
     },
     "execution_count": 127,
     "metadata": {},
     "output_type": "execute_result"
    }
   ],
   "source": [
    "a.argsort(kind=\"mergesort\") #mergesort preserves order when possible it is stabe sort"
   ]
  },
  {
   "cell_type": "code",
   "execution_count": 128,
   "id": "8aed0b8f",
   "metadata": {},
   "outputs": [
    {
     "data": {
      "text/plain": [
       "array([ 0, 14, 13, 12, 11, 10,  9, 15,  8,  6,  5,  4,  3,  2,  1,  7, 16],\n",
       "      dtype=int64)"
      ]
     },
     "execution_count": 128,
     "metadata": {},
     "output_type": "execute_result"
    }
   ],
   "source": [
    "ind=argsort(a) #there is a functional form\n",
    "ind"
   ]
  },
  {
   "cell_type": "markdown",
   "id": "95b3edb7",
   "metadata": {},
   "source": [
    "#  array()"
   ]
  },
  {
   "cell_type": "code",
   "execution_count": 130,
   "id": "ac60e78b",
   "metadata": {},
   "outputs": [
    {
     "data": {
      "text/plain": [
       "array([3, 2, 1])"
      ]
     },
     "execution_count": 130,
     "metadata": {},
     "output_type": "execute_result"
    }
   ],
   "source": [
    "array([3,2,1]) #conversion from a list to an array"
   ]
  },
  {
   "cell_type": "code",
   "execution_count": 132,
   "id": "50856350",
   "metadata": {},
   "outputs": [
    {
     "data": {
      "text/plain": [
       "array([3.+0.j, 2.+0.j, 1.+0.j])"
      ]
     },
     "execution_count": 132,
     "metadata": {},
     "output_type": "execute_result"
    }
   ],
   "source": [
    "array([3,2,1],dtype=complex)#output type is specified"
   ]
  },
  {
   "cell_type": "code",
   "execution_count": 133,
   "id": "9cc96345",
   "metadata": {},
   "outputs": [
    {
     "data": {
      "text/plain": [
       "array([1])"
      ]
     },
     "execution_count": 133,
     "metadata": {},
     "output_type": "execute_result"
    }
   ],
   "source": [
    "array(1, copy=0, subok=1, ndmin=1) # basically equivalant to atleast_1d"
   ]
  },
  {
   "cell_type": "code",
   "execution_count": 135,
   "id": "e7b47f73",
   "metadata": {},
   "outputs": [
    {
     "data": {
      "text/plain": [
       "array([[1]])"
      ]
     },
     "execution_count": 135,
     "metadata": {},
     "output_type": "execute_result"
    }
   ],
   "source": [
    "array(1, copy=0, subok=1, ndmin=2) # basically equivalant to atleast_2d"
   ]
  },
  {
   "cell_type": "code",
   "execution_count": 136,
   "id": "da37442c",
   "metadata": {},
   "outputs": [
    {
     "data": {
      "text/plain": [
       "array([[1]])"
      ]
     },
     "execution_count": 136,
     "metadata": {},
     "output_type": "execute_result"
    }
   ],
   "source": [
    "array(1, subok=1, ndmin=2) #like atleast_2d but always makes a copy"
   ]
  },
  {
   "cell_type": "code",
   "execution_count": 138,
   "id": "ac311340",
   "metadata": {},
   "outputs": [],
   "source": [
    "mydescriptor = {'names': ('gender','age','weight'), 'formats': ('S1', 'f4', 'f4')} # one way of specifying the data type"
   ]
  },
  {
   "cell_type": "code",
   "execution_count": 139,
   "id": "bb792394",
   "metadata": {},
   "outputs": [],
   "source": [
    "a=array([('M',64.0,75.0), ('F',25.0,60.0)], dtype=mydescriptor) #recarry"
   ]
  },
  {
   "cell_type": "code",
   "execution_count": 140,
   "id": "cd90a51b",
   "metadata": {},
   "outputs": [
    {
     "data": {
      "text/plain": [
       "array([(b'M', 64., 75.), (b'F', 25., 60.)],\n",
       "      dtype=[('gender', 'S1'), ('age', '<f4'), ('weight', '<f4')])"
      ]
     },
     "execution_count": 140,
     "metadata": {},
     "output_type": "execute_result"
    }
   ],
   "source": [
    "a"
   ]
  },
  {
   "cell_type": "code",
   "execution_count": 141,
   "id": "bcd6655d",
   "metadata": {},
   "outputs": [
    {
     "data": {
      "text/plain": [
       "array([75., 60.], dtype=float32)"
      ]
     },
     "execution_count": 141,
     "metadata": {},
     "output_type": "execute_result"
    }
   ],
   "source": [
    "a['weight']"
   ]
  },
  {
   "cell_type": "code",
   "execution_count": 142,
   "id": "cddcd723",
   "metadata": {},
   "outputs": [
    {
     "data": {
      "text/plain": [
       "('gender', 'age', 'weight')"
      ]
     },
     "execution_count": 142,
     "metadata": {},
     "output_type": "execute_result"
    }
   ],
   "source": [
    "a.dtype.names # Access to the orderes field names"
   ]
  },
  {
   "cell_type": "code",
   "execution_count": 144,
   "id": "630743bb",
   "metadata": {},
   "outputs": [],
   "source": [
    "mydescriptor=[('age',int16),('Nchildren', int8),('weight',float32)] #another way of specifying the data type"
   ]
  },
  {
   "cell_type": "code",
   "execution_count": 145,
   "id": "8c4ed71d",
   "metadata": {},
   "outputs": [
    {
     "data": {
      "text/plain": [
       "array([2, 0], dtype=int8)"
      ]
     },
     "execution_count": 145,
     "metadata": {},
     "output_type": "execute_result"
    }
   ],
   "source": [
    "a=array([(64,2,75.0),(25,0,60.0)], dtype=mydescriptor)\n",
    "a['Nchildren']"
   ]
  },
  {
   "cell_type": "code",
   "execution_count": 151,
   "id": "24c2d245",
   "metadata": {},
   "outputs": [
    {
     "data": {
      "text/plain": [
       "('nested', [('i', 'i2'), ('j', 'i2')])"
      ]
     },
     "execution_count": 151,
     "metadata": {},
     "output_type": "execute_result"
    }
   ],
   "source": [
    "mydescriptor=dtype([('x','f4'),('y','f4')]),#nested recarray\n",
    "('nested', [('i','i2'),('j','i2')])"
   ]
  },
  {
   "cell_type": "code",
   "execution_count": 2,
   "id": "dd370c97",
   "metadata": {},
   "outputs": [
    {
     "data": {
      "text/plain": [
       "array([1, 2, 3])"
      ]
     },
     "execution_count": 2,
     "metadata": {},
     "output_type": "execute_result"
    }
   ],
   "source": [
    " from numpy import *\n",
    ">>> array([1,2,3]) # conversion from a list to an array\n"
   ]
  },
  {
   "cell_type": "code",
   "execution_count": 4,
   "id": "2bc46eb4",
   "metadata": {},
   "outputs": [
    {
     "name": "stdout",
     "output_type": "stream",
     "text": [
      "[(1. , 2. , (1, 2)) (2.1, 3.2, (3, 2))]\n"
     ]
    }
   ],
   "source": [
    "import numpy as np\n",
    "\n",
    "# Define the custom data type\n",
    "mydescriptor = np.dtype([('x', float), ('y', float), ('coord', tuple)])\n",
    "\n",
    "# Create the array using the custom data type\n",
    "my_array = np.array([(1.0, 2.0, (1,2)), (2.1, 3.2, (3,2))], dtype=mydescriptor)\n",
    "\n",
    "print(my_array)\n"
   ]
  },
  {
   "cell_type": "code",
   "execution_count": 154,
   "id": "e154c209",
   "metadata": {},
   "outputs": [
    {
     "data": {
      "text/plain": [
       "array([1.+0.j, 2.+0.j, 3.+0.j])"
      ]
     },
     "execution_count": 154,
     "metadata": {},
     "output_type": "execute_result"
    }
   ],
   "source": [
    "array([1, 2, 3])\n",
    "array([1,2,3], dtype=complex) # output type is specified\n"
   ]
  },
  {
   "cell_type": "code",
   "execution_count": 155,
   "id": "60d50908",
   "metadata": {},
   "outputs": [
    {
     "data": {
      "text/plain": [
       "array([1])"
      ]
     },
     "execution_count": 155,
     "metadata": {},
     "output_type": "execute_result"
    }
   ],
   "source": [
    " array(1, copy=0, subok=1, ndmin=1) # basically equivalent to atleast_1d\n"
   ]
  },
  {
   "cell_type": "code",
   "execution_count": 156,
   "id": "3e84b5cf",
   "metadata": {},
   "outputs": [
    {
     "data": {
      "text/plain": [
       "array([[1]])"
      ]
     },
     "execution_count": 156,
     "metadata": {},
     "output_type": "execute_result"
    }
   ],
   "source": [
    "array(1, copy=0, subok=1, ndmin=2) # basically equivalent to atleast_2d\n"
   ]
  },
  {
   "cell_type": "code",
   "execution_count": 157,
   "id": "b0c3e624",
   "metadata": {},
   "outputs": [
    {
     "data": {
      "text/plain": [
       "array([[1]])"
      ]
     },
     "execution_count": 157,
     "metadata": {},
     "output_type": "execute_result"
    }
   ],
   "source": [
    "array(1, subok=1, ndmin=2) # like atleast_2d but always makes a copy\n"
   ]
  },
  {
   "cell_type": "code",
   "execution_count": 158,
   "id": "6d8b1ed7",
   "metadata": {},
   "outputs": [],
   "source": [
    " mydescriptor = {'names': ('gender','age','weight'), 'formats': ('S1', 'f4', 'f4')} # one way of specifying the data type\n"
   ]
  },
  {
   "cell_type": "code",
   "execution_count": 159,
   "id": "728d6ec1",
   "metadata": {},
   "outputs": [],
   "source": [
    "a = array([('M',64.0,75.0),('F',25.0,60.0)], dtype=mydescriptor) # recarray\n"
   ]
  },
  {
   "cell_type": "code",
   "execution_count": 160,
   "id": "0c602b58",
   "metadata": {},
   "outputs": [
    {
     "data": {
      "text/plain": [
       "array([(b'M', 64., 75.), (b'F', 25., 60.)],\n",
       "      dtype=[('gender', 'S1'), ('age', '<f4'), ('weight', '<f4')])"
      ]
     },
     "execution_count": 160,
     "metadata": {},
     "output_type": "execute_result"
    }
   ],
   "source": [
    "a"
   ]
  },
  {
   "cell_type": "code",
   "execution_count": 162,
   "id": "f4bc54f2",
   "metadata": {},
   "outputs": [
    {
     "data": {
      "text/plain": [
       "array([75., 60.], dtype=float32)"
      ]
     },
     "execution_count": 162,
     "metadata": {},
     "output_type": "execute_result"
    }
   ],
   "source": [
    " a['weight']"
   ]
  },
  {
   "cell_type": "code",
   "execution_count": 163,
   "id": "dab21644",
   "metadata": {},
   "outputs": [
    {
     "data": {
      "text/plain": [
       "('gender', 'age', 'weight')"
      ]
     },
     "execution_count": 163,
     "metadata": {},
     "output_type": "execute_result"
    }
   ],
   "source": [
    " a.dtype.names # Access to the ordered field names\n"
   ]
  },
  {
   "cell_type": "code",
   "execution_count": 164,
   "id": "3ad93e73",
   "metadata": {},
   "outputs": [],
   "source": [
    "mydescriptor = [('age',int16),('Nchildren',int8),('weight',float32)] # another way of specifying the data type"
   ]
  },
  {
   "cell_type": "code",
   "execution_count": 166,
   "id": "bf9692a3",
   "metadata": {},
   "outputs": [
    {
     "data": {
      "text/plain": [
       "array([2, 0], dtype=int8)"
      ]
     },
     "execution_count": 166,
     "metadata": {},
     "output_type": "execute_result"
    }
   ],
   "source": [
    "a=array([(64,2,75.0),(25,0,60.0)],dtype=mydescriptor)\n",
    "a['Nchildren']"
   ]
  },
  {
   "cell_type": "code",
   "execution_count": 167,
   "id": "277edb75",
   "metadata": {},
   "outputs": [],
   "source": [
    " mydescriptor = dtype([('x', 'f4'),('y', 'f4'), # nested recarray\n",
    "... ('nested', [('i', 'i2'),('j','i2')])])\n"
   ]
  },
  {
   "cell_type": "code",
   "execution_count": 168,
   "id": "10966843",
   "metadata": {},
   "outputs": [
    {
     "data": {
      "text/plain": [
       "array([(1., 2., (1, 2))],\n",
       "      dtype=[('x', '<f4'), ('y', '<f4'), ('nested', [('i', '<i2'), ('j', '<i2')])])"
      ]
     },
     "execution_count": 168,
     "metadata": {},
     "output_type": "execute_result"
    }
   ],
   "source": [
    "array([(1.0, 2.0, (1,2))], dtype=mydescriptor) # input one row\n"
   ]
  },
  {
   "cell_type": "code",
   "execution_count": 169,
   "id": "7360cdd5",
   "metadata": {},
   "outputs": [
    {
     "data": {
      "text/plain": [
       "array([(1. , 2. , (1, 2)), (2.1, 3.2, (3, 2))],\n",
       "      dtype=[('x', '<f4'), ('y', '<f4'), ('nested', [('i', '<i2'), ('j', '<i2')])])"
      ]
     },
     "execution_count": 169,
     "metadata": {},
     "output_type": "execute_result"
    }
   ],
   "source": [
    "array([(1.0, 2.0, (1,2)), (2.1, 3.2, (3,2))], dtype=mydescriptor) # input two rows\n",
    "\n"
   ]
  },
  {
   "cell_type": "code",
   "execution_count": 170,
   "id": "42a15c52",
   "metadata": {},
   "outputs": [],
   "source": [
    "a=array([(1.0, 2.0, (1,2)), (2.1, 3.2, (3,2))], dtype=mydescriptor) # getting some columns\n"
   ]
  },
  {
   "cell_type": "code",
   "execution_count": 171,
   "id": "28e214af",
   "metadata": {},
   "outputs": [
    {
     "data": {
      "text/plain": [
       "array([1. , 2.1], dtype=float32)"
      ]
     },
     "execution_count": 171,
     "metadata": {},
     "output_type": "execute_result"
    }
   ],
   "source": [
    "a['x'] # a plain column\n",
    "\n"
   ]
  },
  {
   "cell_type": "code",
   "execution_count": 172,
   "id": "e9902136",
   "metadata": {},
   "outputs": [
    {
     "data": {
      "text/plain": [
       "array([(1, 2), (3, 2)], dtype=[('i', '<i2'), ('j', '<i2')])"
      ]
     },
     "execution_count": 172,
     "metadata": {},
     "output_type": "execute_result"
    }
   ],
   "source": [
    "a['nested'] # a nested column\n",
    "\n"
   ]
  },
  {
   "cell_type": "code",
   "execution_count": 173,
   "id": "fafcc23c",
   "metadata": {},
   "outputs": [
    {
     "data": {
      "text/plain": [
       "array([1, 3], dtype=int16)"
      ]
     },
     "execution_count": 173,
     "metadata": {},
     "output_type": "execute_result"
    }
   ],
   "source": [
    "a['nested']['i'] # a plain column inside a nested column\n"
   ]
  },
  {
   "cell_type": "code",
   "execution_count": 174,
   "id": "5efa30d6",
   "metadata": {},
   "outputs": [],
   "source": [
    "mydescriptor = dtype([('x', 'f4'),('y', 'f4'), # nested recarray\n",
    "... ('nested', [('i', 'i2'),('j','i2')])])\n"
   ]
  },
  {
   "cell_type": "code",
   "execution_count": 175,
   "id": "c096af68",
   "metadata": {},
   "outputs": [
    {
     "data": {
      "text/plain": [
       "array([(1., 2., (1, 2))],\n",
       "      dtype=[('x', '<f4'), ('y', '<f4'), ('nested', [('i', '<i2'), ('j', '<i2')])])"
      ]
     },
     "execution_count": 175,
     "metadata": {},
     "output_type": "execute_result"
    }
   ],
   "source": [
    "array([(1.0, 2.0, (1,2))], dtype=mydescriptor) # input one row\n"
   ]
  },
  {
   "cell_type": "code",
   "execution_count": 176,
   "id": "0616ed65",
   "metadata": {},
   "outputs": [
    {
     "data": {
      "text/plain": [
       "array([(1. , 2. , (1, 2)), (2.1, 3.2, (3, 2))],\n",
       "      dtype=[('x', '<f4'), ('y', '<f4'), ('nested', [('i', '<i2'), ('j', '<i2')])])"
      ]
     },
     "execution_count": 176,
     "metadata": {},
     "output_type": "execute_result"
    }
   ],
   "source": [
    "array([(1.0, 2.0, (1,2)), (2.1, 3.2, (3,2))], dtype=mydescriptor) # input two rows\n",
    "\n"
   ]
  },
  {
   "cell_type": "code",
   "execution_count": 177,
   "id": "3084acb6",
   "metadata": {},
   "outputs": [
    {
     "data": {
      "text/plain": [
       "array([1. , 2.1], dtype=float32)"
      ]
     },
     "execution_count": 177,
     "metadata": {},
     "output_type": "execute_result"
    }
   ],
   "source": [
    "a=array([(1.0, 2.0, (1,2)), (2.1, 3.2, (3,2))], dtype=mydescriptor) # getting some columns\n",
    "a['x'] # a plain column\n"
   ]
  },
  {
   "cell_type": "code",
   "execution_count": 178,
   "id": "fbfd6747",
   "metadata": {},
   "outputs": [
    {
     "data": {
      "text/plain": [
       "array([(1, 2), (3, 2)], dtype=[('i', '<i2'), ('j', '<i2')])"
      ]
     },
     "execution_count": 178,
     "metadata": {},
     "output_type": "execute_result"
    }
   ],
   "source": [
    " a['nested'] # a nested column\n",
    "\n"
   ]
  },
  {
   "cell_type": "code",
   "execution_count": 179,
   "id": "651901c9",
   "metadata": {},
   "outputs": [
    {
     "data": {
      "text/plain": [
       "array([1, 3], dtype=int16)"
      ]
     },
     "execution_count": 179,
     "metadata": {},
     "output_type": "execute_result"
    }
   ],
   "source": [
    "a['nested']['i'] # a plain column inside a nested column\n"
   ]
  },
  {
   "cell_type": "markdown",
   "id": "e7d65fcf",
   "metadata": {},
   "source": [
    "# arrayarange()"
   ]
  },
  {
   "cell_type": "markdown",
   "id": "1af77c52",
   "metadata": {},
   "source": [
    "# array_split()\n",
    " Splitting breaks one array into multiple."
   ]
  },
  {
   "cell_type": "code",
   "execution_count": 183,
   "id": "1e07aded",
   "metadata": {},
   "outputs": [],
   "source": [
    "from numpy import*\n",
    "a=array([[1,2,3,4], [5,6,7,8]])"
   ]
  },
  {
   "cell_type": "code",
   "execution_count": 184,
   "id": "0a2b3f49",
   "metadata": {},
   "outputs": [
    {
     "data": {
      "text/plain": [
       "[array([[1, 2, 3, 4]]), array([[5, 6, 7, 8]])]"
      ]
     },
     "execution_count": 184,
     "metadata": {},
     "output_type": "execute_result"
    }
   ],
   "source": [
    "array_split(a,2,axis=0) #split a in 2 parts. row wise"
   ]
  },
  {
   "cell_type": "code",
   "execution_count": 185,
   "id": "43621286",
   "metadata": {},
   "outputs": [
    {
     "data": {
      "text/plain": [
       "[array([[1],\n",
       "        [5]]),\n",
       " array([[2],\n",
       "        [6]]),\n",
       " array([[3],\n",
       "        [7]]),\n",
       " array([[4],\n",
       "        [8]])]"
      ]
     },
     "execution_count": 185,
     "metadata": {},
     "output_type": "execute_result"
    }
   ],
   "source": [
    "array_split(a,4,axis=1) #split in a 4 parts column wise"
   ]
  },
  {
   "cell_type": "code",
   "execution_count": 186,
   "id": "bfb35933",
   "metadata": {},
   "outputs": [
    {
     "data": {
      "text/plain": [
       "[array([[1, 2],\n",
       "        [5, 6]]),\n",
       " array([[3],\n",
       "        [7]]),\n",
       " array([[4],\n",
       "        [8]])]"
      ]
     },
     "execution_count": 186,
     "metadata": {},
     "output_type": "execute_result"
    }
   ],
   "source": [
    "array_split(a,3,axis=1) #immpossible to split in 3 equal parts first part(s) are bigger"
   ]
  },
  {
   "cell_type": "code",
   "execution_count": 187,
   "id": "b05bbaa3",
   "metadata": {},
   "outputs": [
    {
     "data": {
      "text/plain": [
       "[array([[1, 2],\n",
       "        [5, 6]]),\n",
       " array([[3],\n",
       "        [7]]),\n",
       " array([[4],\n",
       "        [8]])]"
      ]
     },
     "execution_count": 187,
     "metadata": {},
     "output_type": "execute_result"
    }
   ],
   "source": [
    "array_split(a,[2,3],axis=1) #make a split before the 2nd and the 3rd column"
   ]
  },
  {
   "cell_type": "markdown",
   "id": "6f2312a7",
   "metadata": {},
   "source": [
    "#  asarray()\n",
    "This function is used to create an array by using the existing data in the form of lists, or tuples. This function is useful in the scenario where we need to convert a python sequence into the numpy array object."
   ]
  },
  {
   "cell_type": "code",
   "execution_count": 188,
   "id": "75a5df2f",
   "metadata": {},
   "outputs": [
    {
     "data": {
      "text/plain": [
       "matrix([[1, 2],\n",
       "        [5, 8]])"
      ]
     },
     "execution_count": 188,
     "metadata": {},
     "output_type": "execute_result"
    }
   ],
   "source": [
    "m=matrix('1 2; 5 8')\n",
    "m"
   ]
  },
  {
   "cell_type": "code",
   "execution_count": 189,
   "id": "464be930",
   "metadata": {},
   "outputs": [
    {
     "data": {
      "text/plain": [
       "array([[1, 2],\n",
       "       [5, 8]])"
      ]
     },
     "execution_count": 189,
     "metadata": {},
     "output_type": "execute_result"
    }
   ],
   "source": [
    "a=asarray(m)  # a is array type with same contents as m -- data is not copied\n",
    "a"
   ]
  },
  {
   "cell_type": "code",
   "execution_count": 191,
   "id": "9ec34627",
   "metadata": {},
   "outputs": [
    {
     "data": {
      "text/plain": [
       "matrix([[-99,   2],\n",
       "        [  5,   8]])"
      ]
     },
     "execution_count": 191,
     "metadata": {},
     "output_type": "execute_result"
    }
   ],
   "source": [
    "m[0,0] =-99\n",
    "m"
   ]
  },
  {
   "cell_type": "code",
   "execution_count": 192,
   "id": "45336583",
   "metadata": {},
   "outputs": [
    {
     "data": {
      "text/plain": [
       "array([[-99,   2],\n",
       "       [  5,   8]])"
      ]
     },
     "execution_count": 192,
     "metadata": {},
     "output_type": "execute_result"
    }
   ],
   "source": [
    "a numpy.asanyarray() #no copy was made, so modyfying m modifies a, and vice versa"
   ]
  },
  {
   "cell_type": "markdown",
   "id": "74c696dc",
   "metadata": {},
   "source": [
    "# asanyarray()\n",
    "he asanyarray() function in Python converts the input data to an array.numpy.asanyarray()function is used when we want to convert input to an array but it pass ndarray subclasses through. Input can be scalars, lists, lists of tuples, tuples, tuples of tuples, tuples of lists and ndarrays."
   ]
  },
  {
   "cell_type": "code",
   "execution_count": 193,
   "id": "ca8f406e",
   "metadata": {},
   "outputs": [
    {
     "data": {
      "text/plain": [
       "array([[1, 2],\n",
       "       [5, 8]])"
      ]
     },
     "execution_count": 193,
     "metadata": {},
     "output_type": "execute_result"
    }
   ],
   "source": [
    "a=array([[1,2],[5,8]])\n",
    "a"
   ]
  },
  {
   "cell_type": "code",
   "execution_count": 194,
   "id": "c0b94f3b",
   "metadata": {},
   "outputs": [
    {
     "data": {
      "text/plain": [
       "matrix([[1, 2],\n",
       "        [5, 8]])"
      ]
     },
     "execution_count": 194,
     "metadata": {},
     "output_type": "execute_result"
    }
   ],
   "source": [
    "m=matrix('1 2; 5 8')\n",
    "m"
   ]
  },
  {
   "cell_type": "code",
   "execution_count": 195,
   "id": "f515d67b",
   "metadata": {},
   "outputs": [
    {
     "data": {
      "text/plain": [
       "matrix([[1, 2],\n",
       "        [5, 8]])"
      ]
     },
     "execution_count": 195,
     "metadata": {},
     "output_type": "execute_result"
    }
   ],
   "source": [
    "asanyarray(m)#the matrix is returned unmodified"
   ]
  },
  {
   "cell_type": "code",
   "execution_count": 196,
   "id": "1438f278",
   "metadata": {},
   "outputs": [
    {
     "data": {
      "text/plain": [
       "array([1, 2, 3])"
      ]
     },
     "execution_count": 196,
     "metadata": {},
     "output_type": "execute_result"
    }
   ],
   "source": [
    "asanyarray([1,2,3])"
   ]
  },
  {
   "cell_type": "markdown",
   "id": "08e8786a",
   "metadata": {},
   "source": [
    "#  asmatrix()\n",
    "The asmatrix() function in Python is used to interpret input data as a matrix. Syntax. asmatrix(data, dtype=None). Parameter value.\n"
   ]
  },
  {
   "cell_type": "code",
   "execution_count": 197,
   "id": "f6d368c4",
   "metadata": {},
   "outputs": [
    {
     "data": {
      "text/plain": [
       "array([[1, 2],\n",
       "       [5, 8]])"
      ]
     },
     "execution_count": 197,
     "metadata": {},
     "output_type": "execute_result"
    }
   ],
   "source": [
    "a=array([[1,2],[5,8]])\n",
    "a"
   ]
  },
  {
   "cell_type": "code",
   "execution_count": 198,
   "id": "a1e7c136",
   "metadata": {},
   "outputs": [
    {
     "data": {
      "text/plain": [
       "matrix([[1, 2],\n",
       "        [5, 8]])"
      ]
     },
     "execution_count": 198,
     "metadata": {},
     "output_type": "execute_result"
    }
   ],
   "source": [
    "m= asmatrix(a) #m is matrix type with same contents as a -- data is not copied\n",
    "m"
   ]
  },
  {
   "cell_type": "code",
   "execution_count": 200,
   "id": "6b9c9fb0",
   "metadata": {},
   "outputs": [
    {
     "data": {
      "text/plain": [
       "array([[-99,   2],\n",
       "       [  5,   8]])"
      ]
     },
     "execution_count": 200,
     "metadata": {},
     "output_type": "execute_result"
    }
   ],
   "source": [
    "a[0,0]=-99\n",
    "a"
   ]
  },
  {
   "cell_type": "code",
   "execution_count": 201,
   "id": "6cf43775",
   "metadata": {},
   "outputs": [
    {
     "data": {
      "text/plain": [
       "matrix([[-99,   2],\n",
       "        [  5,   8]])"
      ]
     },
     "execution_count": 201,
     "metadata": {},
     "output_type": "execute_result"
    }
   ],
   "source": [
    "m# no copy was made so modyfying a modifies m, and vice versa"
   ]
  },
  {
   "cell_type": "markdown",
   "id": "3046250b",
   "metadata": {},
   "source": [
    "#  astype()\n",
    "The astype() method converts an array to a specified data type. The astype() method converts an array to a specified data type. "
   ]
  },
  {
   "cell_type": "code",
   "execution_count": 202,
   "id": "436e5a2a",
   "metadata": {},
   "outputs": [
    {
     "data": {
      "text/plain": [
       "numpy.float64"
      ]
     },
     "execution_count": 202,
     "metadata": {},
     "output_type": "execute_result"
    }
   ],
   "source": [
    "x= array([1,2,3])\n",
    "y=x.astype(float64) #convert from int32 to float64\n",
    "type(y[0])"
   ]
  },
  {
   "cell_type": "code",
   "execution_count": 203,
   "id": "9dc4fa88",
   "metadata": {},
   "outputs": [
    {
     "data": {
      "text/plain": [
       "array([1., 2., 3.])"
      ]
     },
     "execution_count": 203,
     "metadata": {},
     "output_type": "execute_result"
    }
   ],
   "source": [
    "x.astype(None) #None implies converting to the defaukt(float64)"
   ]
  },
  {
   "cell_type": "markdown",
   "id": "5e0492d1",
   "metadata": {},
   "source": [
    "# atleast_1d() \n",
    "Convert inputs to arrays with at least one dimension. Scalar inputs are converted to 1-dimensional arrays, whilst higher-dimensional inputs are preserved."
   ]
  },
  {
   "cell_type": "code",
   "execution_count": 208,
   "id": "28657e94",
   "metadata": {},
   "outputs": [
    {
     "data": {
      "text/plain": [
       "array([[[0, 1],\n",
       "        [2, 3]],\n",
       "\n",
       "       [[4, 5],\n",
       "        [6, 7]]])"
      ]
     },
     "execution_count": 208,
     "metadata": {},
     "output_type": "execute_result"
    }
   ],
   "source": [
    "a=1 #0-d array\n",
    "b=array([2,3])#1-d array\n",
    "c=array([[4,5],[6,7]]) #2-d array\n",
    "d=arange(8).reshape(2,2,2) #3-d array\n",
    "d"
   ]
  },
  {
   "cell_type": "code",
   "execution_count": 209,
   "id": "5167ba74",
   "metadata": {},
   "outputs": [
    {
     "data": {
      "text/plain": [
       "[array([1]),\n",
       " array([2, 3]),\n",
       " array([[4, 5],\n",
       "        [6, 7]]),\n",
       " array([[[0, 1],\n",
       "         [2, 3]],\n",
       " \n",
       "        [[4, 5],\n",
       "         [6, 7]]])]"
      ]
     },
     "execution_count": 209,
     "metadata": {},
     "output_type": "execute_result"
    }
   ],
   "source": [
    "atleast_1d(a,b,c,d) #all output arrays have dim>=1"
   ]
  },
  {
   "cell_type": "markdown",
   "id": "c1b6e468",
   "metadata": {},
   "source": [
    "#  atleast_2d()\n",
    "function is used when we want to Convert inputs to arrays with at least two dimension. Scalar and 1-dimensional inputs are converted to 2-dimensional arrays, whilst higher-dimensional inputs are preserved."
   ]
  },
  {
   "cell_type": "code",
   "execution_count": 207,
   "id": "19f95839",
   "metadata": {},
   "outputs": [
    {
     "data": {
      "text/plain": [
       "array([[[0, 1],\n",
       "        [2, 3]],\n",
       "\n",
       "       [[4, 5],\n",
       "        [6, 7]]])"
      ]
     },
     "execution_count": 207,
     "metadata": {},
     "output_type": "execute_result"
    }
   ],
   "source": [
    "a=1 # 0-d array\n",
    "b= array([2,3]) #1-d array\n",
    "c= array([[4,5],[6,7]]) #2-d array\n",
    "d=arange(8).reshape(2,2,2) # 3-d array\n",
    "d"
   ]
  },
  {
   "cell_type": "code",
   "execution_count": 210,
   "id": "a91c7a64",
   "metadata": {},
   "outputs": [
    {
     "data": {
      "text/plain": [
       "[array([[1]]),\n",
       " array([[2, 3]]),\n",
       " array([[4, 5],\n",
       "        [6, 7]]),\n",
       " array([[[0, 1],\n",
       "         [2, 3]],\n",
       " \n",
       "        [[4, 5],\n",
       "         [6, 7]]])]"
      ]
     },
     "execution_count": 210,
     "metadata": {},
     "output_type": "execute_result"
    }
   ],
   "source": [
    "atleast_2d(a,b,c,d) # all output arrays have dim>=2"
   ]
  },
  {
   "cell_type": "markdown",
   "id": "e0979344",
   "metadata": {},
   "source": [
    "# atleast_3d()\n",
    "atleast_3d() function is used when we want to Convert inputs to arrays with at least three dimension. Scalar, 1 and 2 dimensional inputs are converted to 3-dimensional arrays, whilst higher-dimensional inputs are preserved."
   ]
  },
  {
   "cell_type": "code",
   "execution_count": 211,
   "id": "cf8b2927",
   "metadata": {},
   "outputs": [
    {
     "data": {
      "text/plain": [
       "array([[[0, 1],\n",
       "        [2, 3]],\n",
       "\n",
       "       [[4, 5],\n",
       "        [6, 7]]])"
      ]
     },
     "execution_count": 211,
     "metadata": {},
     "output_type": "execute_result"
    }
   ],
   "source": [
    "a=1 # 0-d array\n",
    "b= array([2,3]) #1-d array\n",
    "c= array([[4,5],[6,7]]) #2-d array\n",
    "d=arange(8).reshape(2,2,2) # 3-d array\n",
    "d"
   ]
  },
  {
   "cell_type": "code",
   "execution_count": 212,
   "id": "b270aed0",
   "metadata": {},
   "outputs": [
    {
     "data": {
      "text/plain": [
       "[array([[[1]]]),\n",
       " array([[[2],\n",
       "         [3]]]),\n",
       " array([[[4],\n",
       "         [5]],\n",
       " \n",
       "        [[6],\n",
       "         [7]]]),\n",
       " array([[[0, 1],\n",
       "         [2, 3]],\n",
       " \n",
       "        [[4, 5],\n",
       "         [6, 7]]])]"
      ]
     },
     "execution_count": 212,
     "metadata": {},
     "output_type": "execute_result"
    }
   ],
   "source": [
    "atleast_3d(a,b,c,d) # all output arrays have dim>=3"
   ]
  },
  {
   "cell_type": "markdown",
   "id": "270f0bd2",
   "metadata": {},
   "source": [
    "#  average()\n",
    "Compute the weighted average along the specified axis. Array containing data to be averaged."
   ]
  },
  {
   "cell_type": "code",
   "execution_count": 213,
   "id": "99090a48",
   "metadata": {},
   "outputs": [],
   "source": [
    "a=array([1,2,3,4,5])\n",
    "w= array([0.1,0.2,0.5,0.2,0.2]) # weights, not necessarily normalized"
   ]
  },
  {
   "cell_type": "code",
   "execution_count": 214,
   "id": "7260046c",
   "metadata": {},
   "outputs": [
    {
     "data": {
      "text/plain": [
       "3.0"
      ]
     },
     "execution_count": 214,
     "metadata": {},
     "output_type": "execute_result"
    }
   ],
   "source": [
    "average(a)#plain mean value"
   ]
  },
  {
   "cell_type": "code",
   "execution_count": 215,
   "id": "f0e4774f",
   "metadata": {},
   "outputs": [
    {
     "data": {
      "text/plain": [
       "3.1666666666666665"
      ]
     },
     "execution_count": 215,
     "metadata": {},
     "output_type": "execute_result"
    }
   ],
   "source": [
    "average(a,weights=w) #weighted average"
   ]
  },
  {
   "cell_type": "code",
   "execution_count": 216,
   "id": "bab1de57",
   "metadata": {},
   "outputs": [
    {
     "data": {
      "text/plain": [
       "(3.1666666666666665, 1.2)"
      ]
     },
     "execution_count": 216,
     "metadata": {},
     "output_type": "execute_result"
    }
   ],
   "source": [
    "average(a, weights=w,returned=True) #output= weighted average,sumof weights"
   ]
  },
  {
   "cell_type": "markdown",
   "id": "10a31618",
   "metadata": {},
   "source": [
    "#  beta\n",
    "- The numpy.random.beta() function is used to draw samples from a beta distribution. \n",
    "- This distribution is commonly used in Bayesian statistics and represents a probability distribution of probabilities, typically for models where the unknown probability of success of a binary event is between 0 and 1."
   ]
  },
  {
   "cell_type": "code",
   "execution_count": 5,
   "id": "76192728",
   "metadata": {},
   "outputs": [
    {
     "data": {
      "text/plain": [
       "array([[0.06228919, 0.08677804],\n",
       "       [0.01699511, 0.04427175]])"
      ]
     },
     "execution_count": 5,
     "metadata": {},
     "output_type": "execute_result"
    }
   ],
   "source": [
    "from numpy import *\n",
    "from numpy.random import *\n",
    "beta(a=1,b=10,size=(2,2)) # Beta distribution alpha=1, beta=10\n"
   ]
  },
  {
   "cell_type": "markdown",
   "id": "8811a578",
   "metadata": {},
   "source": [
    "#  binary_repr()\n",
    "The numpy.binary_repr() function is used to represent an integer as a binary string.\n",
    "\n"
   ]
  },
  {
   "cell_type": "code",
   "execution_count": 6,
   "id": "bc2f134e",
   "metadata": {},
   "outputs": [
    {
     "data": {
      "text/plain": [
       "'11001'"
      ]
     },
     "execution_count": 6,
     "metadata": {},
     "output_type": "execute_result"
    }
   ],
   "source": [
    "from numpy import *\n",
    "a = 25\n",
    "binary_repr(a) # binary representation of 25\n",
    "\n"
   ]
  },
  {
   "cell_type": "code",
   "execution_count": 7,
   "id": "eefc0c9e",
   "metadata": {},
   "outputs": [
    {
     "data": {
      "text/plain": [
       "8"
      ]
     },
     "execution_count": 7,
     "metadata": {},
     "output_type": "execute_result"
    }
   ],
   "source": [
    "b = float_(pi) # numpy float has extra functionality ...\n",
    "b.nbytes # ... like the number of bytes it takes\n",
    "\n"
   ]
  },
  {
   "cell_type": "code",
   "execution_count": 8,
   "id": "7a37f559",
   "metadata": {},
   "outputs": [
    {
     "data": {
      "text/plain": [
       "'100000000001001001000011111101101010100010001000010110100011000'"
      ]
     },
     "execution_count": 8,
     "metadata": {},
     "output_type": "execute_result"
    }
   ],
   "source": [
    "binary_repr(b.view('u8')) # view float number as an 8 byte integer, then get binary bitstring\n"
   ]
  },
  {
   "cell_type": "markdown",
   "id": "38793e27",
   "metadata": {},
   "source": [
    "# bincount()\n",
    "\n",
    "numpy.bincount() is a function used to count occurrences of non-negative integers in an array. "
   ]
  },
  {
   "cell_type": "code",
   "execution_count": 9,
   "id": "b8fbccd8",
   "metadata": {},
   "outputs": [
    {
     "data": {
      "text/plain": [
       "array([0, 4, 2, 0, 2, 1, 3], dtype=int64)"
      ]
     },
     "execution_count": 9,
     "metadata": {},
     "output_type": "execute_result"
    }
   ],
   "source": [
    "from numpy import *\n",
    "a = array([1,1,1,1,2,2,4,4,5,6,6,6]) # doesn't need to be sorted\n",
    "bincount(a) # 0 occurs 0 times, 1 occurs 4 times, 2 occurs twice, 3 occurs 0 times, ...\n"
   ]
  },
  {
   "cell_type": "code",
   "execution_count": 10,
   "id": "d8be35f8",
   "metadata": {},
   "outputs": [
    {
     "data": {
      "text/plain": [
       "array([0, 0, 2, 0, 2, 1], dtype=int64)"
      ]
     },
     "execution_count": 10,
     "metadata": {},
     "output_type": "execute_result"
    }
   ],
   "source": [
    "a = array([5,4,4,2,2])\n",
    "w = array([0.1, 0.2, 0.1, 0.3, 0.5])\n",
    "bincount(a) # 0 & 1 don't occur, 2 occurs twice, 3 doesn't occur, 4 occurs twice, 5 once\n",
    "\n"
   ]
  },
  {
   "cell_type": "code",
   "execution_count": 11,
   "id": "da4659f2",
   "metadata": {},
   "outputs": [
    {
     "data": {
      "text/plain": [
       "array([0. , 0. , 0.8, 0. , 0.3, 0.1])"
      ]
     },
     "execution_count": 11,
     "metadata": {},
     "output_type": "execute_result"
    }
   ],
   "source": [
    "bincount(a, weights=w)"
   ]
  },
  {
   "cell_type": "markdown",
   "id": "347d1eb8",
   "metadata": {},
   "source": [
    "#  binomial()\n",
    "\n",
    "- numpy.random.binomial() is a function used to draw samples from a binomial distribution. \n",
    "- The binomial distribution describes the number of successes in a fixed number of independent Bernoulli trials, where each trial results in either success or failure, with a fixed probability of success."
   ]
  },
  {
   "cell_type": "code",
   "execution_count": 12,
   "id": "26c6ad9c",
   "metadata": {},
   "outputs": [
    {
     "data": {
      "text/plain": [
       "array([[49, 51, 52],\n",
       "       [60, 48, 41]])"
      ]
     },
     "execution_count": 12,
     "metadata": {},
     "output_type": "execute_result"
    }
   ],
   "source": [
    "from numpy import *\n",
    "from numpy.random import *\n",
    "binomial(n=100,p=0.5,size=(2,3)) # binomial distribution n trials, p= success probability\n",
    "\n"
   ]
  },
  {
   "cell_type": "code",
   "execution_count": 13,
   "id": "d2f57817",
   "metadata": {},
   "outputs": [
    {
     "data": {
      "text/plain": [
       "(array([  4.,   2.,  15.,  12.,  47.,  27.,  82.,  57., 139.,  84., 164.,\n",
       "         78., 113.,  38.,  74.,  22.,  29.,   4.,   8.,   1.]),\n",
       " array([35. , 36.5, 38. , 39.5, 41. , 42.5, 44. , 45.5, 47. , 48.5, 50. ,\n",
       "        51.5, 53. , 54.5, 56. , 57.5, 59. , 60.5, 62. , 63.5, 65. ]),\n",
       " <BarContainer object of 20 artists>)"
      ]
     },
     "execution_count": 13,
     "metadata": {},
     "output_type": "execute_result"
    },
    {
     "data": {
      "image/png": "[encoded data removed]",
      "text/plain": [
       "<Figure size 432x288 with 1 Axes>"
      ]
     },
     "metadata": {
      "needs_background": "light"
     },
     "output_type": "display_data"
    }
   ],
   "source": [
    "from pylab import * # histogram plot example\n",
    "hist(binomial(100,0.5,(1000)), 20)"
   ]
  },
  {
   "cell_type": "markdown",
   "id": "9af83d9e",
   "metadata": {},
   "source": [
    "#  bitwise_and()\n",
    "- numpy.bitwise_and() is a function used to compute the bitwise AND operation element-wise on two arrays. \n",
    "- It performs a bitwise AND operation on corresponding elements of two input arrays, resulting in a new array where each element is the result of the AND operation applied to the corresponding elements of the input arrays."
   ]
  },
  {
   "cell_type": "code",
   "execution_count": 14,
   "id": "e2925515",
   "metadata": {},
   "outputs": [
    {
     "data": {
      "text/plain": [
       "array([0, 4, 4])"
      ]
     },
     "execution_count": 14,
     "metadata": {},
     "output_type": "execute_result"
    }
   ],
   "source": [
    "from numpy import *\n",
    "bitwise_and(array([2,5,255]), array([4,4,4]))\n",
    "\n"
   ]
  },
  {
   "cell_type": "code",
   "execution_count": 19,
   "id": "502d360c",
   "metadata": {},
   "outputs": [
    {
     "name": "stdout",
     "output_type": "stream",
     "text": [
      "[1 0 0 0]\n"
     ]
    }
   ],
   "source": [
    "import numpy as np\n",
    "\n",
    "# Define two arrays\n",
    "arr1 = np.array([1, 0, 1, 0], dtype=np.uint8)  # Binary: 00000001, 00000000, 00000001, 00000000\n",
    "arr2 = np.array([1, 1, 0, 0], dtype=np.uint8)  # Binary: 00000001, 00000001, 00000000, 00000000\n",
    "\n",
    "# Perform bitwise AND operation\n",
    "result = np.bitwise_and(arr1, arr2)\n",
    "\n",
    "print(result)  # Output: [1 0 0 0]\n"
   ]
  },
  {
   "cell_type": "markdown",
   "id": "06af663c",
   "metadata": {},
   "source": [
    "#  numpy.bitwise_or()\n",
    "- numpy.bitwise_or() is a function used to compute the bitwise OR operation element-wise on two arrays. \n",
    "- It performs a bitwise OR operation on corresponding elements of two input arrays, resulting in a new array where each element is the result of the OR operation applied to the corresponding elements of the input arrays."
   ]
  },
  {
   "cell_type": "code",
   "execution_count": 20,
   "id": "2015ee96",
   "metadata": {},
   "outputs": [
    {
     "data": {
      "text/plain": [
       "array([  6,   5, 255])"
      ]
     },
     "execution_count": 20,
     "metadata": {},
     "output_type": "execute_result"
    }
   ],
   "source": [
    "from numpy import *\n",
    "bitwise_or(array([2,5,255]), array([4,4,4]))\n"
   ]
  },
  {
   "cell_type": "code",
   "execution_count": 1,
   "id": "71b42edb",
   "metadata": {},
   "outputs": [
    {
     "name": "stdout",
     "output_type": "stream",
     "text": [
      "[1 1 1 0]\n"
     ]
    }
   ],
   "source": [
    "import numpy as np\n",
    "\n",
    "# Define two arrays\n",
    "arr1 = np.array([1, 0, 1, 0], dtype=np.uint8)  # Binary: 00000001, 00000000, 00000001, 00000000\n",
    "arr2 = np.array([1, 1, 0, 0], dtype=np.uint8)  # Binary: 00000001, 00000001, 00000000, 00000000\n",
    "\n",
    "# Perform bitwise OR operation\n",
    "result = np.bitwise_or(arr1, arr2)\n",
    "\n",
    "print(result)  # Output: [1 1 1 0]"
   ]
  },
  {
   "cell_type": "markdown",
   "id": "884ec6cb",
   "metadata": {},
   "source": [
    "#  numpy.bitwise_xor() \n",
    "- numpy.bitwise_xor()is a function used to compute the bitwise XOR (exclusive OR) operation element-wise on two arrays. \n",
    "- It performs a bitwise XOR operation on corresponding elements of two input arrays, resulting in a new array where each element is the result of the XOR operation applied to the corresponding elements of the input arrays."
   ]
  },
  {
   "cell_type": "code",
   "execution_count": 3,
   "id": "b8c435a3",
   "metadata": {},
   "outputs": [
    {
     "name": "stdout",
     "output_type": "stream",
     "text": [
      "[0 1 1 0]\n"
     ]
    }
   ],
   "source": [
    "import numpy as np\n",
    "\n",
    "# Define two arrays\n",
    "arr1 = np.array([1, 0, 1, 0], dtype=np.uint8)  # Binary: 00000001, 00000000, 00000001, 00000000\n",
    "arr2 = np.array([1, 1, 0, 0], dtype=np.uint8)  # Binary: 00000001, 00000001, 00000000, 00000000\n",
    "\n",
    "# Perform bitwise XOR operation\n",
    "result = np.bitwise_xor(arr1, arr2)\n",
    "\n",
    "print(result)  # Output: [0 1 1 0]\n"
   ]
  },
  {
   "cell_type": "markdown",
   "id": "71161d51",
   "metadata": {},
   "source": [
    "#  Numpy.bmat()\n",
    "- numpy.bmat() is a function used to concatenate matrices in block matrix notation.\n",
    "- It allows you to construct a larger matrix from smaller matrices by arranging them in a grid-like pattern."
   ]
  },
  {
   "cell_type": "code",
   "execution_count": 5,
   "id": "aa55e594",
   "metadata": {},
   "outputs": [
    {
     "name": "stdout",
     "output_type": "stream",
     "text": [
      "[[ 1  2  5  6]\n",
      " [ 3  4  7  8]\n",
      " [ 9 10  1  2]\n",
      " [11 12  3  4]]\n"
     ]
    }
   ],
   "source": [
    "import numpy as np\n",
    "\n",
    "# Define smaller matrices\n",
    "A = np.array([[1, 2],\n",
    "              [3, 4]])\n",
    "\n",
    "B = np.array([[5, 6],\n",
    "              [7, 8]])\n",
    "\n",
    "C = np.array([[9, 10],\n",
    "              [11, 12]])\n",
    "\n",
    "# Construct a larger matrix using block matrix notation\n",
    "# The argument to bmat() is a string representing the arrangement of blocks\n",
    "# Here, 'A, B; C, A' means arrange A and B horizontally, and C and A vertically\n",
    "larger_matrix = np.bmat([[A, B], [C, A]])\n",
    "\n",
    "print(larger_matrix)\n"
   ]
  },
  {
   "cell_type": "markdown",
   "id": "798ca57e",
   "metadata": {},
   "source": [
    "#  broadcast()\n",
    "\n",
    "In NumPy, broadcasting is a powerful mechanism that allows NumPy to work with arrays of different shapes when performing arithmetic operations. It enables NumPy to perform operations on arrays of different shapes without the need for explicit loop structures, which can significantly improve performance and simplify code.\n",
    "\n",
    "The broadcasting rules in NumPy are:\n",
    "\n",
    "- If the arrays do not have the same number of dimensions, a \"1\" will be prepended to the shape of the smaller array until both shapes have the same length.\n",
    "- Arrays with a size of 1 along a particular dimension act as if they had the size of the other array's dimension along that same dimension.\n",
    "- After broadcasting, the sizes of corresponding dimensions must either be equal or one of them must be 1."
   ]
  },
  {
   "cell_type": "code",
   "execution_count": 6,
   "id": "eb8bab4d",
   "metadata": {},
   "outputs": [
    {
     "name": "stdout",
     "output_type": "stream",
     "text": [
      "[[10 20 30]\n",
      " [40 50 60]]\n"
     ]
    }
   ],
   "source": [
    "import numpy as np\n",
    "\n",
    "# Define an array\n",
    "A = np.array([[1, 2, 3],\n",
    "              [4, 5, 6]])\n",
    "\n",
    "# Define a scalar\n",
    "scalar = 10\n",
    "\n",
    "# Multiply the array by the scalar using broadcasting\n",
    "result = A * scalar\n",
    "\n",
    "print(result)\n"
   ]
  },
  {
   "cell_type": "code",
   "execution_count": 7,
   "id": "39d71316",
   "metadata": {},
   "outputs": [
    {
     "data": {
      "text/plain": [
       "2"
      ]
     },
     "execution_count": 7,
     "metadata": {},
     "output_type": "execute_result"
    }
   ],
   "source": [
    "from numpy import *\n",
    "a = array([[1,2],[3,4]])\n",
    "b = array([5,6])\n",
    "c = broadcast(a,b)\n",
    "c.nd # the number of dimensions in the broadcasted result\n",
    "\n"
   ]
  },
  {
   "cell_type": "code",
   "execution_count": 8,
   "id": "d3ebe26f",
   "metadata": {},
   "outputs": [
    {
     "data": {
      "text/plain": [
       "(2, 2)"
      ]
     },
     "execution_count": 8,
     "metadata": {},
     "output_type": "execute_result"
    }
   ],
   "source": [
    "c.shape # the shape of the broadcasted result\n",
    "\n"
   ]
  },
  {
   "cell_type": "code",
   "execution_count": 9,
   "id": "ccc54cf7",
   "metadata": {},
   "outputs": [
    {
     "data": {
      "text/plain": [
       "4"
      ]
     },
     "execution_count": 9,
     "metadata": {},
     "output_type": "execute_result"
    }
   ],
   "source": [
    "c.size # total size of the broadcasted result\n",
    "\n"
   ]
  },
  {
   "cell_type": "code",
   "execution_count": 12,
   "id": "0e34baae",
   "metadata": {},
   "outputs": [
    {
     "name": "stdout",
     "output_type": "stream",
     "text": [
      "(1, 5)\n",
      "(2, 6)\n",
      "(3, 5)\n",
      "(4, 6)\n"
     ]
    }
   ],
   "source": [
    "for value in c: \n",
    "    print (value)\n",
    "\n",
    "\n"
   ]
  },
  {
   "cell_type": "code",
   "execution_count": 14,
   "id": "e446e51c",
   "metadata": {},
   "outputs": [],
   "source": [
    "c.reset() # reset the iterator to the beginning\n"
   ]
  },
  {
   "cell_type": "markdown",
   "id": "93da595a",
   "metadata": {},
   "source": [
    "#  bytes()\n",
    "- this function in Python is used to create a new immutable bytes object, which is an immutable sequence of integers in the range 0 <= x < 256. Each integer represents a byte of data."
   ]
  },
  {
   "cell_type": "code",
   "execution_count": 18,
   "id": "1b01d21d",
   "metadata": {},
   "outputs": [
    {
     "name": "stdout",
     "output_type": "stream",
     "text": [
      "b'ABCD'\n"
     ]
    }
   ],
   "source": [
    "# Create a bytes object from a sequence of integers\n",
    "b = bytes([65, 66, 67, 68])\n",
    "\n",
    "print(b)  # Output: b'ABCD'\n"
   ]
  },
  {
   "cell_type": "code",
   "execution_count": 19,
   "id": "e24bce49",
   "metadata": {},
   "outputs": [
    {
     "name": "stdout",
     "output_type": "stream",
     "text": [
      "b''\n"
     ]
    }
   ],
   "source": [
    "# Create an empty bytes object\n",
    "empty_bytes = bytes()\n",
    "\n",
    "print(empty_bytes)  # Output: b''\n"
   ]
  },
  {
   "cell_type": "markdown",
   "id": "0d7f8936",
   "metadata": {},
   "source": [
    "#  c_[]\n",
    "In NumPy, np.c_[] is a class that allows you to concatenate arrays along the second axis (column-wise). It's essentially a shorthand notation for np.concatenate() along the second axis when dealing with arrays of compatible shapes."
   ]
  },
  {
   "cell_type": "code",
   "execution_count": 20,
   "id": "e20e3198",
   "metadata": {},
   "outputs": [
    {
     "name": "stdout",
     "output_type": "stream",
     "text": [
      "[[1 4]\n",
      " [2 5]\n",
      " [3 6]]\n"
     ]
    }
   ],
   "source": [
    "import numpy as np\n",
    "\n",
    "# Create two arrays\n",
    "a = np.array([1, 2, 3])\n",
    "b = np.array([4, 5, 6])\n",
    "\n",
    "# Concatenate arrays column-wise using np.c_[]\n",
    "result = np.c_[a, b]\n",
    "\n",
    "print(result)\n"
   ]
  },
  {
   "cell_type": "markdown",
   "id": "4ab4db13",
   "metadata": {},
   "source": [
    "# cast[]\n",
    "In Python, cast[]() isn't a built-in function. It seems you might be referring to type casting or conversion, especially in the context of NumPy arrays. In NumPy, you can cast arrays from one data type to another using the .astype() method."
   ]
  },
  {
   "cell_type": "code",
   "execution_count": 21,
   "id": "0644cb80",
   "metadata": {},
   "outputs": [
    {
     "name": "stdout",
     "output_type": "stream",
     "text": [
      "[1. 2. 3. 4. 5.]\n"
     ]
    }
   ],
   "source": [
    "import numpy as np\n",
    "\n",
    "# Create an array of integers\n",
    "arr_int = np.array([1, 2, 3, 4, 5])\n",
    "\n",
    "# Cast the array to float type\n",
    "arr_float = arr_int.astype(float)\n",
    "\n",
    "print(arr_float)\n"
   ]
  },
  {
   "cell_type": "markdown",
   "id": "5e31b4a1",
   "metadata": {},
   "source": [
    "#  ceil()\n",
    "\n",
    "In Python, ceil() is a function that is typically used to compute the smallest integer greater than or equal to a given number. It's part of the math module in Python."
   ]
  },
  {
   "cell_type": "code",
   "execution_count": 22,
   "id": "8e4b3736",
   "metadata": {},
   "outputs": [
    {
     "name": "stdout",
     "output_type": "stream",
     "text": [
      "4\n"
     ]
    }
   ],
   "source": [
    "import math\n",
    "\n",
    "# Calculate the ceiling of a floating-point number\n",
    "number = 3.14\n",
    "ceiling = math.ceil(number)\n",
    "\n",
    "print(ceiling) \n"
   ]
  },
  {
   "cell_type": "markdown",
   "id": "ee2a8bbe",
   "metadata": {},
   "source": [
    "#   choose()\n",
    "In Python, the choose() function doesn't exist in the standard library. However, in NumPy, there is a function called numpy.choose(), which constructs an array from an index array and a set of arrays to choose from."
   ]
  },
  {
   "cell_type": "code",
   "execution_count": 26,
   "id": "88d0ec43",
   "metadata": {},
   "outputs": [
    {
     "name": "stdout",
     "output_type": "stream",
     "text": [
      "[ 0  5 10  7]\n"
     ]
    }
   ],
   "source": [
    "import numpy as np\n",
    "\n",
    "# Define the index array\n",
    "index = np.array([0, 1, 2, 1])\n",
    "\n",
    "# Define the set of arrays to choose from\n",
    "choices = np.array([[0, 1, 2, 3],\n",
    "                    [4, 5, 6, 7],\n",
    "                    [8, 9, 10, 11]])\n",
    "\n",
    "# Use numpy.choose() to construct the array\n",
    "result = np.choose(index, choices)\n",
    "\n",
    "print(result) \n"
   ]
  },
  {
   "cell_type": "markdown",
   "id": "633bee3d",
   "metadata": {},
   "source": [
    "#   clip()\n",
    "In Python, the clip() function is a method available in NumPy that is used to limit the values in an array to a specified range. It ensures that all elements in the array fall within the specified lower and upper bounds"
   ]
  },
  {
   "cell_type": "code",
   "execution_count": 27,
   "id": "fcb52506",
   "metadata": {},
   "outputs": [
    {
     "name": "stdout",
     "output_type": "stream",
     "text": [
      "[2 2 3 4 4 4]\n"
     ]
    }
   ],
   "source": [
    "import numpy as np\n",
    "\n",
    "# Create an array\n",
    "arr = np.array([1, 2, 3, 4, 5, 6])\n",
    "\n",
    "# Clip the values to be between 2 and 4\n",
    "clipped_arr = np.clip(arr, 2, 4)\n",
    "\n",
    "print(clipped_arr)  \n",
    "\n"
   ]
  },
  {
   "cell_type": "markdown",
   "id": "575f956f",
   "metadata": {},
   "source": [
    "#  column_stack()\n",
    "- In NumPy, numpy.column_stack() is a function used to stack 1-D arrays as columns into a 2-D array. It takes a sequence of 1-D arrays as input and stacks them as columns to form a new 2-D array."
   ]
  },
  {
   "cell_type": "code",
   "execution_count": 28,
   "id": "8caa646a",
   "metadata": {},
   "outputs": [
    {
     "name": "stdout",
     "output_type": "stream",
     "text": [
      "[[1 4 7]\n",
      " [2 5 8]\n",
      " [3 6 9]]\n"
     ]
    }
   ],
   "source": [
    "import numpy as np\n",
    "\n",
    "# Create 1-D arrays\n",
    "a = np.array([1, 2, 3])\n",
    "b = np.array([4, 5, 6])\n",
    "c = np.array([7, 8, 9])\n",
    "\n",
    "# Stack the arrays as columns\n",
    "result = np.column_stack((a, b, c))\n",
    "\n",
    "print(result)\n"
   ]
  },
  {
   "cell_type": "markdown",
   "id": "07868951",
   "metadata": {},
   "source": [
    "#  numpy.compress()\n",
    " it returns selected slices from the array based on a condition. It's like picking specific elements from an array that satisfy a condition."
   ]
  },
  {
   "cell_type": "code",
   "execution_count": 29,
   "id": "115ff47c",
   "metadata": {},
   "outputs": [
    {
     "name": "stdout",
     "output_type": "stream",
     "text": [
      "[3 4 5]\n"
     ]
    }
   ],
   "source": [
    "import numpy as np\n",
    "\n",
    "arr = np.array([1, 2, 3, 4, 5])\n",
    "condition = arr > 2\n",
    "\n",
    "result = np.compress(condition, arr)\n",
    "\n",
    "print(result)  \n"
   ]
  },
  {
   "cell_type": "markdown",
   "id": "e6199bc3",
   "metadata": {},
   "source": [
    "#  numpy.concatenate() \n",
    "It is a function used for joining arrays along a specified axis."
   ]
  },
  {
   "cell_type": "code",
   "execution_count": 31,
   "id": "58d151fd",
   "metadata": {},
   "outputs": [
    {
     "name": "stdout",
     "output_type": "stream",
     "text": [
      "[1 2 3 4 5 6]\n"
     ]
    }
   ],
   "source": [
    "import numpy as np\n",
    "\n",
    "# Let's say we have two arrays\n",
    "arr1 = np.array([1, 2, 3])\n",
    "arr2 = np.array([4, 5, 6])\n",
    "\n",
    "# We want to join them along the 0th axis\n",
    "result = np.concatenate((arr1, arr2))\n",
    "\n",
    "print(result)  \n"
   ]
  },
  {
   "cell_type": "markdown",
   "id": "ccfedfec",
   "metadata": {},
   "source": [
    "#  numpy.conj() \n",
    "It is a function used to compute the complex conjugate of a complex array. "
   ]
  },
  {
   "cell_type": "code",
   "execution_count": 32,
   "id": "fc8593cf",
   "metadata": {},
   "outputs": [
    {
     "name": "stdout",
     "output_type": "stream",
     "text": [
      "[1.-2.j 3.+4.j]\n"
     ]
    }
   ],
   "source": [
    "import numpy as np\n",
    "\n",
    "# Create a complex array\n",
    "arr = np.array([1 + 2j, 3 - 4j])\n",
    "\n",
    "# Compute the complex conjugate\n",
    "result = np.conj(arr)\n",
    "\n",
    "print(result) \n"
   ]
  },
  {
   "cell_type": "markdown",
   "id": "8dfd4841",
   "metadata": {},
   "source": [
    "#  conjugate()\n",
    "It returns the complex conjugate of each element in the array. "
   ]
  },
  {
   "cell_type": "code",
   "execution_count": 33,
   "id": "18c1a0b9",
   "metadata": {},
   "outputs": [
    {
     "name": "stdout",
     "output_type": "stream",
     "text": [
      "[1.-2.j 3.+4.j]\n"
     ]
    }
   ],
   "source": [
    "import numpy as np\n",
    "\n",
    "# Create a complex array\n",
    "arr = np.array([1 + 2j, 3 - 4j])\n",
    "\n",
    "# Compute the complex conjugate using conjugate()\n",
    "result = arr.conjugate()\n",
    "\n",
    "print(result)  \n"
   ]
  },
  {
   "cell_type": "markdown",
   "id": "c760c4ea",
   "metadata": {},
   "source": [
    "#   numpy.linspace()\n",
    "Creates an array with evenly spaced values over a specified interval."
   ]
  },
  {
   "cell_type": "code",
   "execution_count": 34,
   "id": "d10a20e4",
   "metadata": {},
   "outputs": [
    {
     "name": "stdout",
     "output_type": "stream",
     "text": [
      "[0.         0.11111111 0.22222222 0.33333333 0.44444444 0.55555556\n",
      " 0.66666667 0.77777778 0.88888889 1.        ]\n"
     ]
    }
   ],
   "source": [
    "import numpy as np\n",
    "\n",
    "# Create an array with 10 evenly spaced values between 0 and 1\n",
    "arr = np.linspace(0, 1, 10)\n",
    "\n",
    "print(arr)\n"
   ]
  },
  {
   "cell_type": "markdown",
   "id": "437e57c6",
   "metadata": {},
   "source": [
    "#  numpy.diag()\n",
    "Extracts the diagonal or constructs a diagonal array.\n",
    "\n",
    "\n"
   ]
  },
  {
   "cell_type": "code",
   "execution_count": 35,
   "id": "3abe5715",
   "metadata": {},
   "outputs": [
    {
     "name": "stdout",
     "output_type": "stream",
     "text": [
      "[1 5 9]\n"
     ]
    }
   ],
   "source": [
    "import numpy as np\n",
    "\n",
    "# Create a 2D array\n",
    "arr_2d = np.array([[1, 2, 3],\n",
    "                   [4, 5, 6],\n",
    "                   [7, 8, 9]])\n",
    "\n",
    "# Extract diagonal elements\n",
    "diagonal_elements = np.diag(arr_2d)\n",
    "\n",
    "print(diagonal_elements)  # Output: [1 5 9]\n"
   ]
  },
  {
   "cell_type": "code",
   "execution_count": 36,
   "id": "8a06db83",
   "metadata": {},
   "outputs": [
    {
     "name": "stdout",
     "output_type": "stream",
     "text": [
      "[[1 0 0]\n",
      " [0 2 0]\n",
      " [0 0 3]]\n"
     ]
    }
   ],
   "source": [
    "import numpy as np\n",
    "\n",
    "# Create a 1D array\n",
    "arr_1d = np.array([1, 2, 3])\n",
    "\n",
    "# Construct a 2D diagonal array\n",
    "diagonal_array = np.diag(arr_1d)\n",
    "\n",
    "print(diagonal_array)\n"
   ]
  },
  {
   "cell_type": "markdown",
   "id": "5a2b3cb5",
   "metadata": {},
   "source": [
    "# 57. numpy.ravel()\n",
    "Flattens an array into a 1-D array.\n",
    "\n"
   ]
  },
  {
   "cell_type": "code",
   "execution_count": 37,
   "id": "e75c6448",
   "metadata": {},
   "outputs": [
    {
     "name": "stdout",
     "output_type": "stream",
     "text": [
      "[1 2 3 4 5 6]\n"
     ]
    }
   ],
   "source": [
    "import numpy as np\n",
    "\n",
    "# Create a 2D array\n",
    "arr_2d = np.array([[1, 2, 3],\n",
    "                   [4, 5, 6]])\n",
    "\n",
    "# Flatten the array\n",
    "flattened_array = np.ravel(arr_2d)\n",
    "\n",
    "print(flattened_array)  \n"
   ]
  },
  {
   "cell_type": "markdown",
   "id": "1610cf30",
   "metadata": {},
   "source": [
    "#  numpy.unique()\n",
    "Finds the unique elements of an array.\n"
   ]
  },
  {
   "cell_type": "code",
   "execution_count": 38,
   "id": "17c5b22b",
   "metadata": {},
   "outputs": [
    {
     "name": "stdout",
     "output_type": "stream",
     "text": [
      "[1 2 3 4 5 6]\n"
     ]
    }
   ],
   "source": [
    "import numpy as np\n",
    "\n",
    "# Create an array with duplicate elements\n",
    "arr = np.array([2, 1, 4, 3, 2, 1, 5, 4, 6])\n",
    "\n",
    "# Find the unique elements\n",
    "unique_elements = np.unique(arr)\n",
    "\n",
    "print(unique_elements) \n"
   ]
  },
  {
   "cell_type": "markdown",
   "id": "dd09add5",
   "metadata": {},
   "source": [
    "#  numpy.sort()\n",
    "Sorts elements of an array along a specified axis.\n"
   ]
  },
  {
   "cell_type": "code",
   "execution_count": 39,
   "id": "99534f05",
   "metadata": {},
   "outputs": [
    {
     "name": "stdout",
     "output_type": "stream",
     "text": [
      "[1 1 2 3 4 5 6 9]\n"
     ]
    }
   ],
   "source": [
    "import numpy as np\n",
    "\n",
    "# Create an unsorted array\n",
    "arr = np.array([3, 1, 4, 1, 5, 9, 2, 6])\n",
    "\n",
    "# Sort the array\n",
    "sorted_arr = np.sort(arr)\n",
    "\n",
    "print(sorted_arr)  \n"
   ]
  },
  {
   "cell_type": "markdown",
   "id": "57561db1",
   "metadata": {},
   "source": [
    "# numpy.argsort()\n",
    "Returns the indices that would sort an array.\n"
   ]
  },
  {
   "cell_type": "code",
   "execution_count": 40,
   "id": "8527b246",
   "metadata": {},
   "outputs": [
    {
     "name": "stdout",
     "output_type": "stream",
     "text": [
      "[1 3 6 0 2 4 7 5]\n"
     ]
    }
   ],
   "source": [
    "import numpy as np\n",
    "\n",
    "# Create an unsorted array\n",
    "arr = np.array([3, 1, 4, 1, 5, 9, 2, 6])\n",
    "\n",
    "# Get the indices that would sort the array\n",
    "sorted_indices = np.argsort(arr)\n",
    "\n",
    "print(sorted_indices)  \n"
   ]
  },
  {
   "cell_type": "markdown",
   "id": "c4c01105",
   "metadata": {},
   "source": [
    "# numpy.argmax()\n",
    "Returns the indices of the maximum values along an axis.\n"
   ]
  },
  {
   "cell_type": "code",
   "execution_count": 41,
   "id": "9e5f8f25",
   "metadata": {},
   "outputs": [
    {
     "name": "stdout",
     "output_type": "stream",
     "text": [
      "5\n"
     ]
    }
   ],
   "source": [
    "import numpy as np\n",
    "\n",
    "# Create a 1D array\n",
    "arr = np.array([3, 1, 4, 1, 5, 9, 2, 6])\n",
    "\n",
    "# Find the index of the maximum value\n",
    "max_index = np.argmax(arr)\n",
    "\n",
    "print(max_index) \n"
   ]
  },
  {
   "cell_type": "markdown",
   "id": "7a86d45a",
   "metadata": {},
   "source": [
    "#  numpy.argmin()\n",
    "Returns the indices of the minimum values along an axis.\n"
   ]
  },
  {
   "cell_type": "code",
   "execution_count": 42,
   "id": "eb45c844",
   "metadata": {},
   "outputs": [
    {
     "name": "stdout",
     "output_type": "stream",
     "text": [
      "1\n"
     ]
    }
   ],
   "source": [
    "import numpy as np\n",
    "\n",
    "# Create a 1D array\n",
    "arr = np.array([3, 1, 4, 1, 5, 9, 2, 6])\n",
    "\n",
    "# Find the index of the minimum value\n",
    "min_index = np.argmin(arr)\n",
    "\n",
    "print(min_index)  \n"
   ]
  },
  {
   "cell_type": "markdown",
   "id": "97289b1c",
   "metadata": {},
   "source": [
    "#  numpy.clip()\n",
    "Clips (limits) the values in an array.\n"
   ]
  },
  {
   "cell_type": "code",
   "execution_count": 43,
   "id": "630ab309",
   "metadata": {},
   "outputs": [
    {
     "name": "stdout",
     "output_type": "stream",
     "text": [
      "[2 2 3 4 4]\n"
     ]
    }
   ],
   "source": [
    "import numpy as np\n",
    "\n",
    "# Create an array\n",
    "arr = np.array([1, 2, 3, 4, 5])\n",
    "\n",
    "# Clip the values to be between 2 and 4\n",
    "clipped_arr = np.clip(arr, 2, 4)\n",
    "\n",
    "print(clipped_arr)  \n"
   ]
  },
  {
   "cell_type": "markdown",
   "id": "a0d4920a",
   "metadata": {},
   "source": [
    "#  numpy.mean()\n",
    "Computes the arithmetic mean along the specified axis.\n"
   ]
  },
  {
   "cell_type": "code",
   "execution_count": 44,
   "id": "fa0c3169",
   "metadata": {},
   "outputs": [
    {
     "name": "stdout",
     "output_type": "stream",
     "text": [
      "3.0\n"
     ]
    }
   ],
   "source": [
    "import numpy as np\n",
    "\n",
    "# Create a 1D array\n",
    "arr = np.array([1, 2, 3, 4, 5])\n",
    "\n",
    "# Compute the mean of the array\n",
    "mean_value = np.mean(arr)\n",
    "\n",
    "print(mean_value) \n"
   ]
  },
  {
   "cell_type": "markdown",
   "id": "c0f2c1a6",
   "metadata": {},
   "source": [
    "#  numpy.std() \n",
    "Computes the standard deviation along the specified axis.\n"
   ]
  },
  {
   "cell_type": "code",
   "execution_count": 45,
   "id": "c570979f",
   "metadata": {},
   "outputs": [
    {
     "name": "stdout",
     "output_type": "stream",
     "text": [
      "1.4142135623730951\n"
     ]
    }
   ],
   "source": [
    "import numpy as np\n",
    "\n",
    "# Create a 1D array\n",
    "arr = np.array([1, 2, 3, 4, 5])\n",
    "\n",
    "# Compute the standard deviation of the array\n",
    "std_deviation = np.std(arr)\n",
    "\n",
    "print(std_deviation)  \n"
   ]
  },
  {
   "cell_type": "markdown",
   "id": "879d4af7",
   "metadata": {},
   "source": [
    "#  numpy.median() \n",
    "Computes the median along the specified axis.\n"
   ]
  },
  {
   "cell_type": "code",
   "execution_count": 46,
   "id": "47b6e6fc",
   "metadata": {},
   "outputs": [
    {
     "name": "stdout",
     "output_type": "stream",
     "text": [
      "5.0\n"
     ]
    }
   ],
   "source": [
    "import numpy as np\n",
    "\n",
    "# Create a 1D array\n",
    "arr = np.array([1, 3, 5, 7, 9])\n",
    "\n",
    "# Compute the median of the array\n",
    "median_value = np.median(arr)\n",
    "\n",
    "print(median_value)  \n"
   ]
  },
  {
   "cell_type": "markdown",
   "id": "0274bbb0",
   "metadata": {},
   "source": [
    "#  numpy.percentile() \n",
    "Computes the q-th percentile of the data along the specified axis.\n"
   ]
  },
  {
   "cell_type": "code",
   "execution_count": 47,
   "id": "13beabeb",
   "metadata": {},
   "outputs": [
    {
     "name": "stdout",
     "output_type": "stream",
     "text": [
      "3.0\n"
     ]
    }
   ],
   "source": [
    "import numpy as np\n",
    "\n",
    "# Create a 1D array\n",
    "arr = np.array([1, 2, 3, 4, 5])\n",
    "\n",
    "# Compute the 50th percentile (median) of the array\n",
    "percentile_value = np.percentile(arr, 50)\n",
    "\n",
    "print(percentile_value) "
   ]
  },
  {
   "cell_type": "markdown",
   "id": "e5d1ec1c",
   "metadata": {},
   "source": [
    "#  numpy.corrcoef()\n",
    "Computes the correlation coefficient matrix of an array.\n"
   ]
  },
  {
   "cell_type": "code",
   "execution_count": 76,
   "id": "7c486496",
   "metadata": {},
   "outputs": [
    {
     "name": "stdout",
     "output_type": "stream",
     "text": [
      "[[1. 1. 1.]\n",
      " [1. 1. 1.]\n",
      " [1. 1. 1.]]\n"
     ]
    }
   ],
   "source": [
    "import numpy as np\n",
    "\n",
    "# Define the data\n",
    "data = np.array([[1, 2, 3],\n",
    "                 [4, 5, 6],\n",
    "                 [7, 8, 9]])\n",
    "\n",
    "# Compute the correlation matrix\n",
    "correlation_matrix = np.corrcoef(data)\n",
    "\n",
    "print(correlation_matrix)\n"
   ]
  },
  {
   "cell_type": "markdown",
   "id": "c30577d9",
   "metadata": {},
   "source": [
    "# numpy.cov() \n",
    "Computes the covariance matrix of an array.\n"
   ]
  },
  {
   "cell_type": "code",
   "execution_count": 75,
   "id": "a065850d",
   "metadata": {},
   "outputs": [
    {
     "name": "stdout",
     "output_type": "stream",
     "text": [
      "[[1. 1. 1.]\n",
      " [1. 1. 1.]\n",
      " [1. 1. 1.]]\n"
     ]
    }
   ],
   "source": [
    "import numpy as np\n",
    "\n",
    "# Define the data\n",
    "data = np.array([[1, 2, 3],\n",
    "                 [4, 5, 6],\n",
    "                 [7, 8, 9]])\n",
    "\n",
    "# Compute the covariance matrix\n",
    "covariance_matrix = np.cov(data)\n",
    "\n",
    "print(covariance_matrix)\n"
   ]
  },
  {
   "cell_type": "markdown",
   "id": "1f8a667c",
   "metadata": {},
   "source": [
    "#  numpy.isnan() \n",
    "Tests element-wise for NaN (Not a Number).\n"
   ]
  },
  {
   "cell_type": "code",
   "execution_count": 74,
   "id": "ff3f6f28",
   "metadata": {},
   "outputs": [
    {
     "name": "stdout",
     "output_type": "stream",
     "text": [
      "[False  True False  True False]\n"
     ]
    }
   ],
   "source": [
    "import numpy as np\n",
    "\n",
    "# Create an array with some NaN values\n",
    "arr = np.array([1, np.nan, 3, np.nan, 5])\n",
    "\n",
    "# Check for NaN values\n",
    "is_nan = np.isnan(arr)\n",
    "\n",
    "print(is_nan)\n"
   ]
  },
  {
   "cell_type": "markdown",
   "id": "3c97d2dd",
   "metadata": {},
   "source": [
    "#  numpy.isinf() \n",
    "Tests element-wise for infinity.\n"
   ]
  },
  {
   "cell_type": "code",
   "execution_count": 73,
   "id": "969f0489",
   "metadata": {},
   "outputs": [
    {
     "name": "stdout",
     "output_type": "stream",
     "text": [
      "[False  True  True False False]\n"
     ]
    }
   ],
   "source": [
    "import numpy as np\n",
    "\n",
    "# Create an array with some infinite values\n",
    "arr = np.array([1, np.inf, -np.inf, 2, np.nan])\n",
    "\n",
    "# Check for infinite values\n",
    "is_inf = np.isinf(arr)\n",
    "\n",
    "print(is_inf)\n"
   ]
  },
  {
   "cell_type": "markdown",
   "id": "33dfc24a",
   "metadata": {},
   "source": [
    "# numpy.where() \n",
    "Returns elements chosen from two arrays depending on condition.\n"
   ]
  },
  {
   "cell_type": "code",
   "execution_count": 72,
   "id": "1359b7e5",
   "metadata": {},
   "outputs": [
    {
     "name": "stdout",
     "output_type": "stream",
     "text": [
      "(array([2, 3, 4], dtype=int64),)\n"
     ]
    }
   ],
   "source": [
    "import numpy as np\n",
    "\n",
    "# Create an array\n",
    "arr = np.array([1, 2, 3, 4, 5])\n",
    "\n",
    "# Find indices where the elements are greater than 2\n",
    "indices = np.where(arr > 2)\n",
    "\n",
    "print(indices)\n"
   ]
  },
  {
   "cell_type": "markdown",
   "id": "962a848d",
   "metadata": {},
   "source": [
    "#  numpy.meshgrid()\n",
    "Creates coordinate matrices from coordinate vectors.\n"
   ]
  },
  {
   "cell_type": "code",
   "execution_count": 71,
   "id": "1e808e0f",
   "metadata": {},
   "outputs": [
    {
     "name": "stdout",
     "output_type": "stream",
     "text": [
      "X:\n",
      "[[1 2 3]\n",
      " [1 2 3]\n",
      " [1 2 3]\n",
      " [1 2 3]]\n",
      "\n",
      "Y:\n",
      "[[4 4 4]\n",
      " [5 5 5]\n",
      " [6 6 6]\n",
      " [7 7 7]]\n"
     ]
    }
   ],
   "source": [
    "import numpy as np\n",
    "\n",
    "# Define the coordinate vectors\n",
    "x = np.array([1, 2, 3])\n",
    "y = np.array([4, 5, 6, 7])\n",
    "\n",
    "# Create a meshgrid from the coordinate vectors\n",
    "X, Y = np.meshgrid(x, y)\n",
    "\n",
    "print(\"X:\")\n",
    "print(X)\n",
    "print(\"\\nY:\")\n",
    "print(Y)\n"
   ]
  },
  {
   "cell_type": "markdown",
   "id": "380e0b31",
   "metadata": {},
   "source": [
    "#  numpy.fft.fft()\n",
    "Computes the one-dimensional discrete Fourier Transform.\n"
   ]
  },
  {
   "cell_type": "code",
   "execution_count": 70,
   "id": "50a9ea0f",
   "metadata": {},
   "outputs": [
    {
     "name": "stdout",
     "output_type": "stream",
     "text": [
      "[28.+0.j         -4.+9.65685425j -4.+4.j         -4.+1.65685425j\n",
      " -4.+0.j         -4.-1.65685425j -4.-4.j         -4.-9.65685425j]\n"
     ]
    }
   ],
   "source": [
    "import numpy as np\n",
    "\n",
    "# Create a sample signal\n",
    "signal = np.array([0, 1, 2, 3, 4, 5, 6, 7])\n",
    "\n",
    "# Compute the one-dimensional discrete Fourier Transform\n",
    "fourier_transform = np.fft.fft(signal)\n",
    "\n",
    "print(fourier_transform)\n"
   ]
  },
  {
   "cell_type": "markdown",
   "id": "558e50a1",
   "metadata": {},
   "source": [
    "# numpy.linalg.solve() \n",
    "Solves a system of linear equations.\n"
   ]
  },
  {
   "cell_type": "code",
   "execution_count": 69,
   "id": "00ebb520",
   "metadata": {},
   "outputs": [
    {
     "name": "stdout",
     "output_type": "stream",
     "text": [
      "[2.14285714 0.57142857]\n"
     ]
    }
   ],
   "source": [
    "import numpy as np\n",
    "\n",
    "# Define the coefficients matrix A and the constants vector B\n",
    "A = np.array([[2, 3],\n",
    "              [1, -2]])\n",
    "B = np.array([6, 1])\n",
    "\n",
    "# Solve the system of equations\n",
    "X = np.linalg.solve(A, B)\n",
    "\n",
    "print(X)\n",
    "\n"
   ]
  },
  {
   "cell_type": "markdown",
   "id": "c8c29769",
   "metadata": {},
   "source": [
    "#  numpy.linalg.eig() \n",
    "Computes the eigenvalues and eigenvectors of a square array.\n"
   ]
  },
  {
   "cell_type": "code",
   "execution_count": 68,
   "id": "e8e7353a",
   "metadata": {},
   "outputs": [
    {
     "name": "stdout",
     "output_type": "stream",
     "text": [
      "Eigenvalues: [ 3. -1.]\n",
      "Eigenvectors: [[ 0.70710678 -0.70710678]\n",
      " [ 0.70710678  0.70710678]]\n"
     ]
    }
   ],
   "source": [
    "import numpy as np\n",
    "\n",
    "# Create a square array (matrix)\n",
    "A = np.array([[1, 2],\n",
    "              [2, 1]])\n",
    "\n",
    "# Compute the eigenvalues and eigenvectors\n",
    "eigenvalues, eigenvectors = np.linalg.eig(A)\n",
    "\n",
    "print(\"Eigenvalues:\", eigenvalues)\n",
    "print(\"Eigenvectors:\", eigenvectors)\n"
   ]
  },
  {
   "cell_type": "markdown",
   "id": "2600891b",
   "metadata": {},
   "source": [
    "#  numpy.random.choice() \n",
    "Generates a random sample from a given 1-D array.\n"
   ]
  },
  {
   "cell_type": "code",
   "execution_count": 67,
   "id": "cc35e286",
   "metadata": {},
   "outputs": [
    {
     "name": "stdout",
     "output_type": "stream",
     "text": [
      "2\n"
     ]
    }
   ],
   "source": [
    "import random\n",
    "\n",
    "# Create a list\n",
    "my_list = [1, 2, 3, 4, 5]\n",
    "\n",
    "# Choose a random element from the list\n",
    "random_element = random.choice(my_list)\n",
    "\n",
    "print(random_element)\n"
   ]
  },
  {
   "cell_type": "markdown",
   "id": "75babd77",
   "metadata": {},
   "source": [
    "#  numpy.random.shuffle() \n",
    "Modifies a sequence in-place by shuffling its contents randomly.\n"
   ]
  },
  {
   "cell_type": "code",
   "execution_count": 66,
   "id": "7ac3c824",
   "metadata": {},
   "outputs": [
    {
     "name": "stdout",
     "output_type": "stream",
     "text": [
      "[2, 4, 5, 3, 1]\n"
     ]
    }
   ],
   "source": [
    "import random\n",
    "\n",
    "# Create a list\n",
    "my_list = [1, 2, 3, 4, 5]\n",
    "\n",
    "# Shuffle the list\n",
    "random.shuffle(my_list)\n",
    "\n",
    "print(my_list)\n"
   ]
  },
  {
   "cell_type": "markdown",
   "id": "c85a04d5",
   "metadata": {},
   "source": [
    "#  numpy.random.seed()\n",
    "Seeds the generator for reproducible random sequences."
   ]
  },
  {
   "cell_type": "code",
   "execution_count": 65,
   "id": "1e4ac518",
   "metadata": {},
   "outputs": [
    {
     "name": "stdout",
     "output_type": "stream",
     "text": [
      "0.6394267984578837\n"
     ]
    }
   ],
   "source": [
    "import random\n",
    "\n",
    "# Set the random seed to a specific value (e.g., 42)\n",
    "random.seed(42)\n",
    "\n",
    "# Generate a random number\n",
    "random_number = random.random()\n",
    "\n",
    "print(random_number)\n"
   ]
  },
  {
   "cell_type": "markdown",
   "id": "4fea4f05",
   "metadata": {},
   "source": [
    "#  numpy.zeros()\n",
    "Creates an array filled with zeros.\n"
   ]
  },
  {
   "cell_type": "code",
   "execution_count": 64,
   "id": "fda1e6ee",
   "metadata": {},
   "outputs": [
    {
     "name": "stdout",
     "output_type": "stream",
     "text": [
      "[[0. 0. 0. 0.]\n",
      " [0. 0. 0. 0.]\n",
      " [0. 0. 0. 0.]]\n"
     ]
    }
   ],
   "source": [
    "import numpy as np\n",
    "\n",
    "# Create a 3x4 array filled with zeros\n",
    "zeros_array = np.zeros((3, 4))\n",
    "\n",
    "print(zeros_array)\n"
   ]
  },
  {
   "cell_type": "markdown",
   "id": "fb6200c4",
   "metadata": {},
   "source": [
    "#  numpy.ones()\n",
    "Creates an array filled with ones.\n"
   ]
  },
  {
   "cell_type": "code",
   "execution_count": 63,
   "id": "41febe6f",
   "metadata": {},
   "outputs": [
    {
     "name": "stdout",
     "output_type": "stream",
     "text": [
      "[[1. 1. 1. 1.]\n",
      " [1. 1. 1. 1.]\n",
      " [1. 1. 1. 1.]]\n"
     ]
    }
   ],
   "source": [
    "import numpy as np\n",
    "\n",
    "# Create a 3x4 array filled with ones\n",
    "ones_array = np.ones((3, 4))\n",
    "\n",
    "print(ones_array)\n"
   ]
  },
  {
   "cell_type": "markdown",
   "id": "1a0b1334",
   "metadata": {},
   "source": [
    "#  numpy.eye()\n",
    "Creates a 2-D array with ones on the diagonal and zeros elsewhere.\n"
   ]
  },
  {
   "cell_type": "code",
   "execution_count": 62,
   "id": "953f818b",
   "metadata": {},
   "outputs": [
    {
     "name": "stdout",
     "output_type": "stream",
     "text": [
      "[[1. 0. 0.]\n",
      " [0. 1. 0.]\n",
      " [0. 0. 1.]]\n"
     ]
    }
   ],
   "source": [
    "import numpy as np\n",
    "\n",
    "# Create a 3x3 identity matrix\n",
    "identity_matrix = np.eye(3)\n",
    "\n",
    "print(identity_matrix)\n"
   ]
  },
  {
   "cell_type": "markdown",
   "id": "60a202af",
   "metadata": {},
   "source": [
    "#  numpy.random.rand()\n",
    "Generates random values in a given shape.\n"
   ]
  },
  {
   "cell_type": "code",
   "execution_count": 61,
   "id": "d798b365",
   "metadata": {},
   "outputs": [
    {
     "name": "stdout",
     "output_type": "stream",
     "text": [
      "[[0.74235208 0.79045657 0.31696107]\n",
      " [0.06683875 0.64703634 0.97972173]]\n"
     ]
    }
   ],
   "source": [
    "import numpy as np\n",
    "\n",
    "# Generate a 2x3 array of random numbers from a uniform distribution over [0, 1)\n",
    "random_array = np.random.rand(2, 3)\n",
    "\n",
    "print(random_array)\n"
   ]
  },
  {
   "cell_type": "markdown",
   "id": "7e122878",
   "metadata": {},
   "source": [
    "#  numpy.random.randn()\n",
    "Generates random values from a normal distribution.\n"
   ]
  },
  {
   "cell_type": "code",
   "execution_count": 60,
   "id": "b17aa183",
   "metadata": {},
   "outputs": [
    {
     "name": "stdout",
     "output_type": "stream",
     "text": [
      "[[ 0.90225076  0.36329817 -0.43176865]\n",
      " [ 3.59648411  0.12298801 -2.58689305]]\n"
     ]
    }
   ],
   "source": [
    "import numpy as np\n",
    "\n",
    "# Generate a 2x3 array of random numbers from a standard normal distribution\n",
    "random_array = np.random.randn(2, 3)\n",
    "\n",
    "print(random_array)\n"
   ]
  },
  {
   "cell_type": "markdown",
   "id": "d9068884",
   "metadata": {},
   "source": [
    "#  numpy.reshape()\n",
    "Reshapes an array to a specified shape.\n"
   ]
  },
  {
   "cell_type": "code",
   "execution_count": 59,
   "id": "fb78e2bb",
   "metadata": {},
   "outputs": [
    {
     "name": "stdout",
     "output_type": "stream",
     "text": [
      "[[ 0  1  2  3]\n",
      " [ 4  5  6  7]\n",
      " [ 8  9 10 11]]\n"
     ]
    }
   ],
   "source": [
    "import numpy as np\n",
    "\n",
    "# Create a 1D array with 12 elements\n",
    "arr = np.arange(12)\n",
    "\n",
    "# Reshape the array to a 3x4 matrix\n",
    "reshaped_arr = np.reshape(arr, (3, 4))\n",
    "\n",
    "print(reshaped_arr)\n"
   ]
  },
  {
   "cell_type": "markdown",
   "id": "f3736235",
   "metadata": {},
   "source": [
    "#   numpy.concatenate()\n",
    "Concatenates arrays.\n"
   ]
  },
  {
   "cell_type": "code",
   "execution_count": 58,
   "id": "04951962",
   "metadata": {},
   "outputs": [
    {
     "name": "stdout",
     "output_type": "stream",
     "text": [
      "[1 2 3 4 5 6]\n"
     ]
    }
   ],
   "source": [
    "import numpy as np\n",
    "\n",
    "# Create two 1D arrays\n",
    "a = np.array([1, 2, 3])\n",
    "b = np.array([4, 5, 6])\n",
    "\n",
    "# Concatenate the arrays along the 0th axis (default)\n",
    "concatenated_arr = np.concatenate((a, b))\n",
    "\n",
    "print(concatenated_arr)  \n"
   ]
  },
  {
   "cell_type": "markdown",
   "id": "e8112ba9",
   "metadata": {},
   "source": [
    "#  numpy.transpose()\n",
    "Transposes an array.\n"
   ]
  },
  {
   "cell_type": "code",
   "execution_count": 57,
   "id": "bc300ebd",
   "metadata": {},
   "outputs": [
    {
     "name": "stdout",
     "output_type": "stream",
     "text": [
      "[[1 4]\n",
      " [2 5]\n",
      " [3 6]]\n"
     ]
    }
   ],
   "source": [
    "import numpy as np\n",
    "\n",
    "# Create a 2D array\n",
    "arr_2d = np.array([[1, 2, 3],\n",
    "                   [4, 5, 6]])\n",
    "\n",
    "# Transpose the array\n",
    "transposed_arr = np.transpose(arr_2d)\n",
    "\n",
    "print(transposed_arr)\n"
   ]
  },
  {
   "cell_type": "markdown",
   "id": "2633f0e6",
   "metadata": {},
   "source": [
    "#  numpy.sum()\n",
    "Computes the sum of array elements.\n"
   ]
  },
  {
   "cell_type": "code",
   "execution_count": 56,
   "id": "a4f22715",
   "metadata": {},
   "outputs": [
    {
     "name": "stdout",
     "output_type": "stream",
     "text": [
      "[5 7 9]\n"
     ]
    }
   ],
   "source": [
    "# Create a 2D array\n",
    "arr_2d = np.array([[1, 2, 3],\n",
    "                   [4, 5, 6]])\n",
    "\n",
    "# Compute the sum along the columns (axis=0)\n",
    "sum_values_columns = np.sum(arr_2d, axis=0)\n",
    "\n",
    "print(sum_values_columns) \n"
   ]
  },
  {
   "cell_type": "markdown",
   "id": "a725c6f3",
   "metadata": {},
   "source": [
    "#  numpy.mean()\n",
    "Computes the mean of array elements.\n"
   ]
  },
  {
   "cell_type": "code",
   "execution_count": 55,
   "id": "a4b99ae7",
   "metadata": {},
   "outputs": [
    {
     "name": "stdout",
     "output_type": "stream",
     "text": [
      "3.0\n"
     ]
    }
   ],
   "source": [
    "import numpy as np\n",
    "\n",
    "# Create a 1D array\n",
    "arr = np.array([1, 2, 3, 4, 5])\n",
    "\n",
    "# Compute the mean of the array\n",
    "mean_value = np.mean(arr)\n",
    "\n",
    "print(mean_value)  \n"
   ]
  },
  {
   "cell_type": "markdown",
   "id": "ee946597",
   "metadata": {},
   "source": [
    "# numpy.max()\n",
    "Finds the maximum value in an array.\n"
   ]
  },
  {
   "cell_type": "code",
   "execution_count": 54,
   "id": "19c9fcdf",
   "metadata": {},
   "outputs": [
    {
     "name": "stdout",
     "output_type": "stream",
     "text": [
      "9\n"
     ]
    }
   ],
   "source": [
    "import numpy as np\n",
    "\n",
    "# Create a 1D array\n",
    "arr = np.array([3, 1, 4, 1, 5, 9, 2, 6])\n",
    "\n",
    "# Find the maximum value\n",
    "max_value = np.max(arr)\n",
    "\n",
    "print(max_value) \n"
   ]
  },
  {
   "cell_type": "markdown",
   "id": "70430b81",
   "metadata": {},
   "source": [
    "#  numpy.min()\n",
    "Finds the minimum value in an array.\n"
   ]
  },
  {
   "cell_type": "code",
   "execution_count": 53,
   "id": "89e57519",
   "metadata": {},
   "outputs": [
    {
     "name": "stdout",
     "output_type": "stream",
     "text": [
      "1\n"
     ]
    }
   ],
   "source": [
    "import numpy as np\n",
    "\n",
    "# Create a 1D array\n",
    "arr = np.array([3, 1, 4, 1, 5, 9, 2, 6])\n",
    "\n",
    "# Find the minimum value\n",
    "min_value = np.min(arr)\n",
    "\n",
    "print(min_value) \n"
   ]
  },
  {
   "cell_type": "markdown",
   "id": "c4f9572d",
   "metadata": {},
   "source": [
    "#  numpy.argmax()\n",
    "Returns the indices of the maximum value along an axis.\n"
   ]
  },
  {
   "cell_type": "code",
   "execution_count": 52,
   "id": "7824f9b7",
   "metadata": {},
   "outputs": [
    {
     "name": "stdout",
     "output_type": "stream",
     "text": [
      "5\n"
     ]
    }
   ],
   "source": [
    "import numpy as np\n",
    "\n",
    "# Create a 1D array\n",
    "arr = np.array([3, 1, 4, 1, 5, 9, 2, 6])\n",
    "\n",
    "# Find the index of the maximum value\n",
    "max_index = np.argmax(arr)\n",
    "\n",
    "print(max_index)  \n"
   ]
  },
  {
   "cell_type": "markdown",
   "id": "bd41f1e3",
   "metadata": {},
   "source": [
    "#  numpy.argmin()\n",
    "Returns the indices of the minimum value along an axis.\n"
   ]
  },
  {
   "cell_type": "code",
   "execution_count": 51,
   "id": "8033bca6",
   "metadata": {},
   "outputs": [
    {
     "name": "stdout",
     "output_type": "stream",
     "text": [
      "1\n"
     ]
    }
   ],
   "source": [
    "import numpy as np\n",
    "\n",
    "# Create a 1D array\n",
    "arr = np.array([3, 1, 4, 1, 5, 9, 2, 6])\n",
    "\n",
    "# Find the index of the minimum value\n",
    "min_index = np.argmin(arr)\n",
    "\n",
    "print(min_index) \n"
   ]
  },
  {
   "cell_type": "markdown",
   "id": "5449ea72",
   "metadata": {},
   "source": [
    "#  numpy.dot()\n",
    "Computes the dot product of two arrays.\n"
   ]
  },
  {
   "cell_type": "code",
   "execution_count": 50,
   "id": "bcb7466f",
   "metadata": {},
   "outputs": [
    {
     "name": "stdout",
     "output_type": "stream",
     "text": [
      "32\n"
     ]
    }
   ],
   "source": [
    "import numpy as np\n",
    "\n",
    "# Create two 1D arrays\n",
    "a = np.array([1, 2, 3])\n",
    "b = np.array([4, 5, 6])\n",
    "\n",
    "# Compute the dot product of the two arrays\n",
    "dot_product = np.dot(a, b)\n",
    "\n",
    "print(dot_product)  \n"
   ]
  },
  {
   "cell_type": "markdown",
   "id": "136f05ce",
   "metadata": {},
   "source": [
    "#  numpy.linalg.inv()\n",
    "Computes the inverse of a matrix.\n"
   ]
  },
  {
   "cell_type": "code",
   "execution_count": 49,
   "id": "1c4e80d5",
   "metadata": {},
   "outputs": [
    {
     "name": "stdout",
     "output_type": "stream",
     "text": [
      "[[-2.   1. ]\n",
      " [ 1.5 -0.5]]\n"
     ]
    }
   ],
   "source": [
    "import numpy as np\n",
    "\n",
    "# Create a 2x2 matrix\n",
    "matrix = np.array([[1, 2],\n",
    "                   [3, 4]])\n",
    "\n",
    "# Compute the inverse of the matrix\n",
    "inverse_matrix = np.linalg.inv(matrix)\n",
    "\n",
    "print(inverse_matrix)\n"
   ]
  },
  {
   "cell_type": "markdown",
   "id": "e8c9aaed",
   "metadata": {},
   "source": [
    "#  numpy.linalg.det()\n",
    "Computes the determinant of a matrix"
   ]
  },
  {
   "cell_type": "code",
   "execution_count": 48,
   "id": "23b5af12",
   "metadata": {},
   "outputs": [
    {
     "name": "stdout",
     "output_type": "stream",
     "text": [
      "-2.0000000000000004\n"
     ]
    }
   ],
   "source": [
    "import numpy as np\n",
    "\n",
    "# Create a 2x2 matrix\n",
    "matrix = np.array([[1, 2],\n",
    "                   [3, 4]])\n",
    "\n",
    "# Compute the determinant of the matrix\n",
    "determinant = np.linalg.det(matrix)\n",
    "\n",
    "print(determinant) \n"
   ]
  }
 ],
 "metadata": {
  "kernelspec": {
   "display_name": "Python 3 (ipykernel)",
   "language": "python",
   "name": "python3"
  },
  "language_info": {
   "codemirror_mode": {
    "name": "ipython",
    "version": 3
   },
   "file_extension": ".py",
   "mimetype": "text/x-python",
   "name": "python",
   "nbconvert_exporter": "python",
   "pygments_lexer": "ipython3",
   "version": "3.9.7"
  }
 },
 "nbformat": 4,
 "nbformat_minor": 5
}
